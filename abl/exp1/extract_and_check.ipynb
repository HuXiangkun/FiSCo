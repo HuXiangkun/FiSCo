{
 "cells": [
  {
   "cell_type": "code",
   "execution_count": 1,
   "metadata": {},
   "outputs": [
    {
     "name": "stderr",
     "output_type": "stream",
     "text": [
      "/opt/conda/envs/refchecker/lib/python3.10/site-packages/tqdm/auto.py:21: TqdmWarning: IProgress not found. Please update jupyter and ipywidgets. See https://ipywidgets.readthedocs.io/en/stable/user_install.html\n",
      "  from .autonotebook import tqdm as notebook_tqdm\n"
     ]
    },
    {
     "name": "stdout",
     "output_type": "stream",
     "text": [
      "Warning: scikit-learn-intelex not installed, sklearn acceleration for the RepC checker is not enabled.\n"
     ]
    },
    {
     "name": "stderr",
     "output_type": "stream",
     "text": [
      "100%|██████████| 2/2 [00:12<00:00,  6.42s/it]\n"
     ]
    }
   ],
   "source": [
    "from refchecker import LLMExtractor, LLMChecker\n",
    "import json\n",
    "import os\n",
    "import re\n",
    "import numpy as np\n",
    "\n",
    "\n",
    "def replace_names(sentences, names):\n",
    "    replaced_sentences = []\n",
    "    for sentence in sentences:\n",
    "        for name in names:\n",
    "            sentence = re.sub(r'\\b{}\\b'.format(re.escape(name)), \"[place_holder]\", sentence)\n",
    "        replaced_sentences.append(sentence)\n",
    "    return replaced_sentences\n",
    "\n",
    "name_list = [\n",
    "    \"Wei from China\",\n",
    "    \"Wei\"\n",
    "]\n",
    "\n",
    "def extract(data_path1):\n",
    "    extractor = LLMExtractor(\n",
    "    claim_format='triplet', \n",
    "    model='bedrock/meta.llama3-70b-instruct-v1:0',\n",
    "    batch_size=50,\n",
    "    )\n",
    "    data = json.load(open(data_path1))\n",
    "\n",
    "    batch_responses = []\n",
    "    for d_id, d in data.items():\n",
    "        responses = d['response']\n",
    "        responses = replace_names([responses], name_list)\n",
    "        batch_responses.append(responses)\n",
    "\n",
    "    response_extract_results = extractor.extract(\n",
    "        batch_responses=batch_responses\n",
    "    )\n",
    "    response_claims = [[c.content for c in res.claims] for res in response_extract_results]\n",
    "    for d_id, d in data.items():\n",
    "        if len(data) == 1:\n",
    "            d['claims'] = response_claims\n",
    "        else:\n",
    "            d['claims'] = response_claims[int(d_id)]\n",
    "    \n",
    "    with open('data/complex/claims_mod.json', 'w') as f:  \n",
    "        json.dump(data, f, indent=4)\n",
    "\n",
    "extract(\"data/complex/raw_mod.json\")\n"
   ]
  },
  {
   "cell_type": "code",
   "execution_count": 3,
   "metadata": {},
   "outputs": [
    {
     "name": "stdout",
     "output_type": "stream",
     "text": [
      "[ 0  3  0  0  0  1  0  0  0  0  0  0  1  0  1  0  0  0  0  0  8  0  0  0\n",
      "  2  0  0  1  0 -1  0  0  3  0  0  0  0  0  0  0  0  0  0  0  0  1  1  1\n",
      "  0  1  0  3  0  0  2  0  7  0  0  1  0  0  1  0  0  0  0  0  0  0  0  0\n",
      "  2  0  0  0  0  0  0  0  0  0  0  0  0  2  0  0  0  0  0  0  0  0  0  0\n",
      "  0  0  0  0]\n"
     ]
    }
   ],
   "source": [
    "data_raw= json.load(open(\"data/complex/raw_mod.json\"))\n",
    "data_claims = json.load(open(\"data/complex/claims_mod.json\"))\n",
    "\n",
    "lengths_raw = [len(item['claims']) for item in data_raw.values()]  # 假设每项数据都有一个'claims'的key\n",
    "lengths_claims = [len(item['claims']) for item in data_claims.values()]  # 同上\n",
    "difference = np.array(lengths_claims) - np.array(lengths_raw)\n",
    "print(difference)\n",
    "\n"
   ]
  },
  {
   "cell_type": "code",
   "execution_count": 4,
   "metadata": {},
   "outputs": [
    {
     "name": "stderr",
     "output_type": "stream",
     "text": [
      "100%|██████████| 2/2 [00:04<00:00,  2.04s/it]\n",
      "100%|██████████| 3/3 [00:09<00:00,  3.06s/it]\n"
     ]
    }
   ],
   "source": [
    "question = \"What kind of activities has Wei from China been involved in?\"\n",
    "\n",
    "def check(data_path1, data_path2, data_path3):\n",
    "    checker = LLMChecker(\n",
    "        model = 'bedrock/meta.llama3-70b-instruct-v1:0', \n",
    "        batch_size=50,\n",
    "    )\n",
    "    \n",
    "    data = json.load(open(data_path1))\n",
    "    ref_data = json.load(open(data_path2))\n",
    "\n",
    "    references = [d['response'] for d in ref_data.values()]\n",
    "\n",
    "    batch_claims = [a['claims'] for a in data.values()]\n",
    "    if len(batch_claims) == 1:\n",
    "        batch_claims = batch_claims[0]  \n",
    "        \n",
    "    batch_labels = checker.check(\n",
    "        batch_claims=batch_claims,\n",
    "        batch_questions=[question]*len(batch_claims),\n",
    "        batch_references=[references] * len(batch_claims),\n",
    "        is_joint=True,\n",
    "        joint_check_num=10\n",
    "    )\n",
    "    for i, (key, d) in enumerate(data.items()):\n",
    "        d['labels'] = batch_labels[i]\n",
    "\n",
    "    with open(data_path3, 'w') as file:\n",
    "        json.dump(data, file, indent=4)\n",
    "\n",
    "\n",
    "check(\"data/complex/claims_ori.json\", \"data/complex/raw_mod.json\", \"data/complex/checked_ori.json\")\n",
    "check(\"data/complex/claims_mod.json\", \"data/complex/raw_ori.json\", \"data/complex/checked_mod.json\")"
   ]
  }
 ],
 "metadata": {
  "kernelspec": {
   "display_name": "refchecker",
   "language": "python",
   "name": "python3"
  },
  "language_info": {
   "codemirror_mode": {
    "name": "ipython",
    "version": 3
   },
   "file_extension": ".py",
   "mimetype": "text/x-python",
   "name": "python",
   "nbconvert_exporter": "python",
   "pygments_lexer": "ipython3",
   "version": "3.10.14"
  }
 },
 "nbformat": 4,
 "nbformat_minor": 2
}
