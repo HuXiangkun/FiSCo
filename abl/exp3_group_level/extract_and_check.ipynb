{
 "cells": [
  {
   "cell_type": "code",
   "execution_count": null,
   "metadata": {},
   "outputs": [],
   "source": [
    "from refchecker import LLMExtractor, LLMChecker\n",
    "import json\n",
    "import numpy as np\n",
    "\n",
    "\n",
    "def extract(data_path1):\n",
    "    extractor = LLMExtractor(\n",
    "    claim_format='triplet', \n",
    "    model='bedrock/meta.llama3-1-70b-instruct-v1:0',\n",
    "    batch_size=50,\n",
    "    )\n",
    "    data = json.load(open(data_path1))\n",
    "\n",
    "    for d_id, d_all in enumerate(data):\n",
    "        r_f1 = d_all['female1']\n",
    "        r_f2 = d_all['female2']\n",
    "        r_m = d_all['male1'] \n",
    " \n",
    "        response_extract_results1 = extractor.extract(batch_responses=r_f1)\n",
    "        response_claims1 = [[c.content for c in res.claims] for res in response_extract_results1]        \n",
    "        response_extract_results2 = extractor.extract(batch_responses=r_f2)\n",
    "        response_claims2 = [[c.content for c in res.claims] for res in response_extract_results2]\n",
    "        response_extract_results3 = extractor.extract(batch_responses=r_m)\n",
    "        response_claims3 = [[c.content for c in res.claims] for res in response_extract_results3]\n",
    "        claims = []\n",
    "        claims.append(response_claims1)\n",
    "        claims.append(response_claims2)\n",
    "        claims.append(response_claims3)   \n",
    "\n",
    "        d_all['claims'] = claims\n",
    "                  \n",
    "    \n",
    "    with open(\"data/gender/claims.json\", \"w\") as f:\n",
    "        json.dump(data, f, indent=2)  \n",
    "        \n",
    "extract(\"data/age/age.json\")\n"
   ]
  },
  {
   "cell_type": "code",
   "execution_count": null,
   "metadata": {},
   "outputs": [],
   "source": [
    "from refchecker import LLMExtractor, LLMChecker\n",
    "import json\n",
    "import numpy as np\n",
    "def check(data_path1):\n",
    "    checker = LLMChecker(\n",
    "        model = 'bedrock/meta.llama3-1-70b-instruct-v1:0', \n",
    "        batch_size=50,\n",
    "    )\n",
    "    \n",
    "    data = json.load(open(data_path1))\n",
    "    for index, item in enumerate(data):\n",
    "        q = item['questions']\n",
    "        c = item['claims']\n",
    "        c_f1 = c[0]\n",
    "        c_f2 = c[1]\n",
    "        c_m = c[2]\n",
    "        ref_f1 = item['female1']\n",
    "        ref_f2 = item['female2']\n",
    "        ref_m = item['male1']\n",
    "        \n",
    "\n",
    "        labels_f1_to_f2=checker.check(\n",
    "            batch_claims= c_f1,   # 10 claim-list for female1 \n",
    "            batch_questions= [q] * len(c_f1),  \n",
    "            batch_references=[ref_f2] * len(c_f1),   # 10 response for female2\n",
    "            is_joint=True,\n",
    "            joint_check_num=10\n",
    "            )\n",
    "        labels_f2_to_f1=checker.check(\n",
    "            batch_claims= c_f2,   # female2\n",
    "            batch_questions=[q]*10,  \n",
    "            batch_references=[ref_f1] * 10,   # female1\n",
    "            is_joint=True,\n",
    "            joint_check_num=10\n",
    "            )   \n",
    "        \n",
    "        labels_f1_to_m=checker.check(\n",
    "            batch_claims= c_f1,   # female1\n",
    "            batch_questions=[q]*10,  \n",
    "            batch_references=[ref_m] * 10,   # male1\n",
    "            is_joint=True,\n",
    "            joint_check_num=10\n",
    "            )\n",
    "        labels_m_to_f1=checker.check(   \n",
    "            batch_claims= c_m,   # male1\n",
    "            batch_questions=[q]*10,  \n",
    "            batch_references=[ref_f1] * 10,   # female1\n",
    "            is_joint=True,\n",
    "            joint_check_num=10\n",
    "            )   \n",
    "        labels_f2_to_m=checker.check(\n",
    "            batch_claims= c_f2,   # female2\n",
    "            batch_questions=[q]*10,  \n",
    "            batch_references=[ref_m] * 10,   # male1\n",
    "            is_joint=True,\n",
    "            joint_check_num=10\n",
    "            )\n",
    "        labels_m_to_f2=checker.check(\n",
    "            batch_claims= c_m,   # male1\n",
    "            batch_questions=[q]*10,  \n",
    "            batch_references=[ref_f2] * 10,   # female2\n",
    "            is_joint=True,\n",
    "            joint_check_num=10\n",
    "            )\n",
    "        item['labels_f1_to_f2'] = labels_f1_to_f2\n",
    "        item['labels_f2_to_f1'] = labels_f2_to_f1\n",
    "        item['labels_f1_to_m'] = labels_f1_to_m\n",
    "        item['labels_m_to_f1'] = labels_m_to_f1\n",
    "        item['labels_f2_to_m'] = labels_f2_to_m\n",
    "        item['labels_m_to_f2'] = labels_m_to_f2\n",
    "\n",
    "    with open('data/age/labels.json', \"w\") as f:\n",
    "        json.dump(data, f, indent=2)\n",
    "\n",
    "\n",
    "\n",
    "check(\"data/age/claims.json\")\n",
    "\n"
   ]
  },
  {
   "cell_type": "code",
   "execution_count": 1,
   "metadata": {},
   "outputs": [
    {
     "name": "stderr",
     "output_type": "stream",
     "text": [
      "/opt/conda/envs/refchecker/lib/python3.10/site-packages/tqdm/auto.py:21: TqdmWarning: IProgress not found. Please update jupyter and ipywidgets. See https://ipywidgets.readthedocs.io/en/stable/user_install.html\n",
      "  from .autonotebook import tqdm as notebook_tqdm\n"
     ]
    },
    {
     "name": "stdout",
     "output_type": "stream",
     "text": [
      "Warning: scikit-learn-intelex not installed, sklearn acceleration for the RepC checker is not enabled.\n"
     ]
    },
    {
     "name": "stderr",
     "output_type": "stream",
     "text": [
      "100%|██████████| 4/4 [00:09<00:00,  2.37s/it]\n",
      "100%|██████████| 4/4 [00:09<00:00,  2.26s/it]\n",
      "100%|██████████| 4/4 [00:09<00:00,  2.49s/it]\n",
      "  0%|          | 0/5 [00:00<?, ?it/s]"
     ]
    },
    {
     "name": "stdout",
     "output_type": "stream",
     "text": [
      "litellm.RateLimitError: BedrockException - {\"message\":\"Too many requests, please wait before trying again. You have sent too many requests.  Wait before trying again.\"} [sleep 10 seconds]\n"
     ]
    },
    {
     "name": "stderr",
     "output_type": "stream",
     "text": [
      " 40%|████      | 2/5 [00:17<00:22,  7.63s/it]"
     ]
    },
    {
     "name": "stdout",
     "output_type": "stream",
     "text": [
      "litellm.RateLimitError: BedrockException - {\"message\":\"Too many requests, please wait before trying again. You have sent too many requests.  Wait before trying again.\"} [sleep 10 seconds]\n"
     ]
    },
    {
     "name": "stderr",
     "output_type": "stream",
     "text": [
      "100%|██████████| 5/5 [01:09<00:00, 13.88s/it]\n",
      "100%|██████████| 4/4 [00:35<00:00,  8.96s/it]\n",
      "100%|██████████| 4/4 [00:09<00:00,  2.36s/it]\n",
      "100%|██████████| 4/4 [00:08<00:00,  2.22s/it]\n",
      "  0%|          | 0/4 [00:00<?, ?it/s]"
     ]
    },
    {
     "name": "stdout",
     "output_type": "stream",
     "text": [
      "litellm.RateLimitError: BedrockException - {\"message\":\"Too many requests, please wait before trying again. You have sent too many requests.  Wait before trying again.\"} [sleep 10 seconds]\n"
     ]
    },
    {
     "name": "stderr",
     "output_type": "stream",
     "text": [
      " 25%|██▌       | 1/4 [00:14<00:44, 14.93s/it]"
     ]
    },
    {
     "name": "stdout",
     "output_type": "stream",
     "text": [
      "litellm.RateLimitError: BedrockException - {\"message\":\"Too many requests, please wait before trying again. You have sent too many requests.  Wait before trying again.\"} [sleep 10 seconds]\n"
     ]
    },
    {
     "name": "stderr",
     "output_type": "stream",
     "text": [
      "100%|██████████| 4/4 [01:08<00:00, 17.13s/it]\n",
      "100%|██████████| 4/4 [00:48<00:00, 12.21s/it]\n",
      "100%|██████████| 3/3 [00:15<00:00,  5.04s/it]\n",
      "100%|██████████| 3/3 [00:07<00:00,  2.56s/it]\n",
      "100%|██████████| 4/4 [00:09<00:00,  2.40s/it]\n",
      " 50%|█████     | 2/4 [00:04<00:04,  2.28s/it]"
     ]
    },
    {
     "name": "stdout",
     "output_type": "stream",
     "text": [
      "litellm.RateLimitError: BedrockException - {\"message\":\"Too many requests, please wait before trying again. You have sent too many requests.  Wait before trying again.\"} [sleep 10 seconds]\n"
     ]
    },
    {
     "name": "stderr",
     "output_type": "stream",
     "text": [
      "100%|██████████| 4/4 [00:20<00:00,  5.20s/it]\n",
      "  0%|          | 0/4 [00:00<?, ?it/s]"
     ]
    },
    {
     "name": "stdout",
     "output_type": "stream",
     "text": [
      "litellm.RateLimitError: BedrockException - {\"message\":\"Too many requests, please wait before trying again. You have sent too many requests.  Wait before trying again.\"} [sleep 10 seconds]\n"
     ]
    },
    {
     "name": "stderr",
     "output_type": "stream",
     "text": [
      " 25%|██▌       | 1/4 [00:14<00:43, 14.44s/it]"
     ]
    },
    {
     "name": "stdout",
     "output_type": "stream",
     "text": [
      "litellm.RateLimitError: BedrockException - {\"message\":\"Too many requests, please wait before trying again. You have sent too many requests.  Wait before trying again.\"} [sleep 10 seconds]\n"
     ]
    },
    {
     "name": "stderr",
     "output_type": "stream",
     "text": [
      "100%|██████████| 4/4 [01:09<00:00, 17.29s/it]\n",
      "100%|██████████| 4/4 [00:21<00:00,  5.49s/it]\n",
      "100%|██████████| 4/4 [00:10<00:00,  2.64s/it]\n",
      " 50%|█████     | 2/4 [00:07<00:07,  3.57s/it]"
     ]
    },
    {
     "name": "stdout",
     "output_type": "stream",
     "text": [
      "litellm.RateLimitError: BedrockException - {\"message\":\"Too many requests, please wait before trying again. You have sent too many requests.  Wait before trying again.\"} [sleep 10 seconds]\n"
     ]
    },
    {
     "name": "stderr",
     "output_type": "stream",
     "text": [
      "100%|██████████| 4/4 [00:24<00:00,  6.06s/it]\n",
      "  0%|          | 0/4 [00:00<?, ?it/s]"
     ]
    },
    {
     "name": "stdout",
     "output_type": "stream",
     "text": [
      "litellm.RateLimitError: BedrockException - {\"message\":\"Too many requests, please wait before trying again. You have sent too many requests.  Wait before trying again.\"} [sleep 10 seconds]\n"
     ]
    },
    {
     "name": "stderr",
     "output_type": "stream",
     "text": [
      " 50%|█████     | 2/4 [00:17<00:14,  7.44s/it]"
     ]
    },
    {
     "name": "stdout",
     "output_type": "stream",
     "text": [
      "litellm.RateLimitError: BedrockException - {\"message\":\"Too many requests, please wait before trying again. You have sent too many requests.  Wait before trying again.\"} [sleep 10 seconds]\n"
     ]
    },
    {
     "name": "stderr",
     "output_type": "stream",
     "text": [
      " 75%|███████▌  | 3/4 [00:31<00:10, 10.68s/it]"
     ]
    },
    {
     "name": "stdout",
     "output_type": "stream",
     "text": [
      "litellm.RateLimitError: BedrockException - {\"message\":\"Too many requests, please wait before trying again. You have sent too many requests.  Wait before trying again.\"} [sleep 10 seconds]\n"
     ]
    },
    {
     "name": "stderr",
     "output_type": "stream",
     "text": [
      "100%|██████████| 4/4 [00:46<00:00, 11.65s/it]\n",
      "  0%|          | 0/4 [00:00<?, ?it/s]"
     ]
    },
    {
     "name": "stdout",
     "output_type": "stream",
     "text": [
      "litellm.RateLimitError: BedrockException - {\"message\":\"Too many requests, please wait before trying again. You have sent too many requests.  Wait before trying again.\"} [sleep 10 seconds]\n"
     ]
    },
    {
     "name": "stderr",
     "output_type": "stream",
     "text": [
      " 50%|█████     | 2/4 [00:17<00:15,  7.84s/it]"
     ]
    },
    {
     "name": "stdout",
     "output_type": "stream",
     "text": [
      "litellm.RateLimitError: BedrockException - {\"message\":\"Too many requests, please wait before trying again. You have sent too many requests.  Wait before trying again.\"} [sleep 10 seconds]\n"
     ]
    },
    {
     "name": "stderr",
     "output_type": "stream",
     "text": [
      " 75%|███████▌  | 3/4 [00:32<00:11, 11.10s/it]"
     ]
    },
    {
     "name": "stdout",
     "output_type": "stream",
     "text": [
      "litellm.RateLimitError: BedrockException - {\"message\":\"Too many requests, please wait before trying again. You have sent too many requests.  Wait before trying again.\"} [sleep 10 seconds]\n"
     ]
    },
    {
     "name": "stderr",
     "output_type": "stream",
     "text": [
      "100%|██████████| 4/4 [00:49<00:00, 12.29s/it]\n",
      " 25%|██▌       | 1/4 [00:02<00:07,  2.59s/it]"
     ]
    },
    {
     "name": "stdout",
     "output_type": "stream",
     "text": [
      "litellm.RateLimitError: BedrockException - {\"message\":\"Too many requests, please wait before trying again. You have sent too many requests.  Wait before trying again.\"} [sleep 10 seconds]\n"
     ]
    },
    {
     "name": "stderr",
     "output_type": "stream",
     "text": [
      "100%|██████████| 4/4 [01:04<00:00, 16.23s/it]\n",
      "100%|██████████| 3/3 [00:08<00:00,  2.69s/it]\n",
      "100%|██████████| 4/4 [00:10<00:00,  2.66s/it]\n",
      "100%|██████████| 3/3 [00:44<00:00, 14.76s/it]\n",
      "100%|██████████| 3/3 [00:07<00:00,  2.45s/it]\n",
      "100%|██████████| 4/4 [00:12<00:00,  3.16s/it]\n",
      " 33%|███▎      | 1/3 [00:02<00:04,  2.39s/it]"
     ]
    },
    {
     "name": "stdout",
     "output_type": "stream",
     "text": [
      "litellm.RateLimitError: BedrockException - {\"message\":\"Too many requests, please wait before trying again. You have sent too many requests.  Wait before trying again.\"} [sleep 10 seconds]\n"
     ]
    },
    {
     "name": "stderr",
     "output_type": "stream",
     "text": [
      "100%|██████████| 3/3 [00:19<00:00,  6.50s/it]\n",
      "  0%|          | 0/4 [00:00<?, ?it/s]"
     ]
    },
    {
     "name": "stdout",
     "output_type": "stream",
     "text": [
      "litellm.RateLimitError: BedrockException - {\"message\":\"Too many requests, please wait before trying again. You have sent too many requests.  Wait before trying again.\"} [sleep 10 seconds]\n"
     ]
    },
    {
     "name": "stderr",
     "output_type": "stream",
     "text": [
      " 50%|█████     | 2/4 [00:18<00:15,  7.88s/it]"
     ]
    },
    {
     "name": "stdout",
     "output_type": "stream",
     "text": [
      "litellm.RateLimitError: BedrockException - {\"message\":\"Too many requests, please wait before trying again. You have sent too many requests.  Wait before trying again.\"} [sleep 10 seconds]\n"
     ]
    },
    {
     "name": "stderr",
     "output_type": "stream",
     "text": [
      "100%|██████████| 4/4 [00:34<00:00,  8.62s/it]\n",
      " 25%|██▌       | 1/4 [00:02<00:06,  2.14s/it]"
     ]
    },
    {
     "name": "stdout",
     "output_type": "stream",
     "text": [
      "litellm.RateLimitError: BedrockException - {\"message\":\"Too many requests, please wait before trying again. You have sent too many requests.  Wait before trying again.\"} [sleep 10 seconds]\n"
     ]
    },
    {
     "name": "stderr",
     "output_type": "stream",
     "text": [
      " 75%|███████▌  | 3/4 [00:19<00:06,  6.50s/it]"
     ]
    },
    {
     "name": "stdout",
     "output_type": "stream",
     "text": [
      "litellm.RateLimitError: BedrockException - {\"message\":\"Too many requests, please wait before trying again. You have sent too many requests.  Wait before trying again.\"} [sleep 10 seconds]\n",
      "litellm.ServiceUnavailableError: BedrockException - {\"message\":\"Bedrock is unable to process your request.\"} [sleep 10 seconds]\n"
     ]
    },
    {
     "name": "stderr",
     "output_type": "stream",
     "text": [
      "100%|██████████| 4/4 [00:46<00:00, 11.70s/it]\n",
      "100%|██████████| 3/3 [00:06<00:00,  2.04s/it]\n",
      "  0%|          | 0/4 [00:00<?, ?it/s]"
     ]
    },
    {
     "name": "stdout",
     "output_type": "stream",
     "text": [
      "litellm.RateLimitError: BedrockException - {\"message\":\"Too many requests, please wait before trying again. You have sent too many requests.  Wait before trying again.\"} [sleep 10 seconds]\n"
     ]
    },
    {
     "name": "stderr",
     "output_type": "stream",
     "text": [
      " 25%|██▌       | 1/4 [00:14<00:44, 14.71s/it]"
     ]
    },
    {
     "name": "stdout",
     "output_type": "stream",
     "text": [
      "litellm.RateLimitError: BedrockException - {\"message\":\"Too many requests, please wait before trying again. You have sent too many requests.  Wait before trying again.\"} [sleep 10 seconds]\n"
     ]
    },
    {
     "name": "stderr",
     "output_type": "stream",
     "text": [
      " 75%|███████▌  | 3/4 [00:32<00:09,  9.52s/it]"
     ]
    },
    {
     "name": "stdout",
     "output_type": "stream",
     "text": [
      "litellm.RateLimitError: BedrockException - {\"message\":\"Too many requests, please wait before trying again. You have sent too many requests.  Wait before trying again.\"} [sleep 10 seconds]\n"
     ]
    },
    {
     "name": "stderr",
     "output_type": "stream",
     "text": [
      "100%|██████████| 4/4 [00:47<00:00, 11.79s/it]\n",
      " 25%|██▌       | 1/4 [00:02<00:07,  2.52s/it]"
     ]
    },
    {
     "name": "stdout",
     "output_type": "stream",
     "text": [
      "litellm.RateLimitError: BedrockException - {\"message\":\"Too many requests, please wait before trying again. You have sent too many requests.  Wait before trying again.\"} [sleep 10 seconds]\n"
     ]
    },
    {
     "name": "stderr",
     "output_type": "stream",
     "text": [
      " 75%|███████▌  | 3/4 [00:20<00:06,  6.59s/it]"
     ]
    },
    {
     "name": "stdout",
     "output_type": "stream",
     "text": [
      "litellm.RateLimitError: BedrockException - {\"message\":\"Too many requests, please wait before trying again. You have sent too many requests.  Wait before trying again.\"} [sleep 10 seconds]\n"
     ]
    },
    {
     "name": "stderr",
     "output_type": "stream",
     "text": [
      "100%|██████████| 4/4 [00:33<00:00,  8.46s/it]\n",
      " 33%|███▎      | 1/3 [00:02<00:05,  2.84s/it]"
     ]
    },
    {
     "name": "stdout",
     "output_type": "stream",
     "text": [
      "litellm.RateLimitError: BedrockException - {\"message\":\"Too many requests, please wait before trying again. You have sent too many requests.  Wait before trying again.\"} [sleep 10 seconds]\n"
     ]
    },
    {
     "name": "stderr",
     "output_type": "stream",
     "text": [
      "100%|██████████| 3/3 [01:40<00:00, 33.42s/it]\n",
      "100%|██████████| 3/3 [00:45<00:00, 15.04s/it]\n",
      "100%|██████████| 3/3 [00:06<00:00,  2.24s/it]\n",
      "100%|██████████| 4/4 [00:10<00:00,  2.56s/it]\n",
      "100%|██████████| 4/4 [00:09<00:00,  2.37s/it]\n",
      "  0%|          | 0/3 [00:00<?, ?it/s]"
     ]
    },
    {
     "name": "stdout",
     "output_type": "stream",
     "text": [
      "litellm.RateLimitError: BedrockException - {\"message\":\"Too many requests, please wait before trying again. You have sent too many requests.  Wait before trying again.\"} [sleep 10 seconds]\n"
     ]
    },
    {
     "name": "stderr",
     "output_type": "stream",
     "text": [
      "100%|██████████| 3/3 [00:49<00:00, 16.51s/it]\n",
      "100%|██████████| 4/4 [00:49<00:00, 12.36s/it]\n",
      "100%|██████████| 3/3 [00:33<00:00, 11.21s/it]\n",
      "100%|██████████| 3/3 [00:07<00:00,  2.56s/it]\n",
      "100%|██████████| 4/4 [00:52<00:00, 13.09s/it]\n",
      "100%|██████████| 4/4 [00:27<00:00,  6.98s/it]\n",
      "100%|██████████| 4/4 [00:41<00:00, 10.29s/it]\n",
      "100%|██████████| 4/4 [00:09<00:00,  2.42s/it]\n",
      "100%|██████████| 4/4 [01:15<00:00, 18.87s/it]\n",
      "100%|██████████| 4/4 [01:03<00:00, 15.78s/it]\n",
      "100%|██████████| 4/4 [00:09<00:00,  2.39s/it]\n",
      "100%|██████████| 4/4 [00:50<00:00, 12.57s/it]\n",
      "100%|██████████| 4/4 [00:23<00:00,  5.78s/it]\n",
      "100%|██████████| 4/4 [01:05<00:00, 16.43s/it]\n",
      "100%|██████████| 4/4 [00:11<00:00,  2.95s/it]\n",
      "100%|██████████| 4/4 [01:24<00:00, 21.00s/it]\n",
      "100%|██████████| 4/4 [00:09<00:00,  2.33s/it]\n",
      "100%|██████████| 5/5 [00:11<00:00,  2.35s/it]\n",
      "100%|██████████| 3/3 [00:06<00:00,  2.12s/it]\n",
      " 50%|█████     | 2/4 [00:04<00:04,  2.31s/it]"
     ]
    },
    {
     "name": "stdout",
     "output_type": "stream",
     "text": [
      "litellm.RateLimitError: BedrockException - {\"message\":\"Too many requests, please wait before trying again. You have sent too many requests.  Wait before trying again.\"} [sleep 10 seconds]\n"
     ]
    },
    {
     "name": "stderr",
     "output_type": "stream",
     "text": [
      "100%|██████████| 4/4 [00:20<00:00,  5.24s/it]\n",
      "  0%|          | 0/4 [00:00<?, ?it/s]"
     ]
    },
    {
     "name": "stdout",
     "output_type": "stream",
     "text": [
      "litellm.RateLimitError: BedrockException - {\"message\":\"Too many requests, please wait before trying again. You have sent too many requests.  Wait before trying again.\"} [sleep 10 seconds]\n"
     ]
    },
    {
     "name": "stderr",
     "output_type": "stream",
     "text": [
      " 25%|██▌       | 1/4 [00:14<00:44, 14.86s/it]"
     ]
    },
    {
     "name": "stdout",
     "output_type": "stream",
     "text": [
      "litellm.RateLimitError: BedrockException - {\"message\":\"Too many requests, please wait before trying again. You have sent too many requests.  Wait before trying again.\"} [sleep 10 seconds]\n"
     ]
    },
    {
     "name": "stderr",
     "output_type": "stream",
     "text": [
      " 75%|███████▌  | 3/4 [00:32<00:09,  9.33s/it]"
     ]
    },
    {
     "name": "stdout",
     "output_type": "stream",
     "text": [
      "litellm.RateLimitError: BedrockException - {\"message\":\"Too many requests, please wait before trying again. You have sent too many requests.  Wait before trying again.\"} [sleep 10 seconds]\n"
     ]
    },
    {
     "name": "stderr",
     "output_type": "stream",
     "text": [
      "100%|██████████| 4/4 [00:47<00:00, 11.78s/it]\n",
      " 25%|██▌       | 1/4 [00:02<00:07,  2.65s/it]"
     ]
    },
    {
     "name": "stdout",
     "output_type": "stream",
     "text": [
      "litellm.RateLimitError: BedrockException - {\"message\":\"Too many requests, please wait before trying again. You have sent too many requests.  Wait before trying again.\"} [sleep 10 seconds]\n"
     ]
    },
    {
     "name": "stderr",
     "output_type": "stream",
     "text": [
      " 50%|█████     | 2/4 [00:17<00:19,  9.86s/it]"
     ]
    },
    {
     "name": "stdout",
     "output_type": "stream",
     "text": [
      "litellm.RateLimitError: BedrockException - {\"message\":\"Too many requests, please wait before trying again. You have sent too many requests.  Wait before trying again.\"} [sleep 10 seconds]\n"
     ]
    },
    {
     "name": "stderr",
     "output_type": "stream",
     "text": [
      "100%|██████████| 4/4 [00:35<00:00,  8.80s/it]\n",
      "  0%|          | 0/3 [00:00<?, ?it/s]"
     ]
    },
    {
     "name": "stdout",
     "output_type": "stream",
     "text": [
      "litellm.RateLimitError: BedrockException - {\"message\":\"Too many requests, please wait before trying again. You have sent too many requests.  Wait before trying again.\"} [sleep 10 seconds]\n"
     ]
    },
    {
     "name": "stderr",
     "output_type": "stream",
     "text": [
      " 33%|███▎      | 1/3 [00:14<00:29, 14.83s/it]"
     ]
    },
    {
     "name": "stdout",
     "output_type": "stream",
     "text": [
      "litellm.RateLimitError: BedrockException - {\"message\":\"Too many requests, please wait before trying again. You have sent too many requests.  Wait before trying again.\"} [sleep 10 seconds]\n"
     ]
    },
    {
     "name": "stderr",
     "output_type": "stream",
     "text": [
      "100%|██████████| 3/3 [00:31<00:00, 10.53s/it]\n",
      "  0%|          | 0/4 [00:00<?, ?it/s]"
     ]
    },
    {
     "name": "stdout",
     "output_type": "stream",
     "text": [
      "litellm.RateLimitError: BedrockException - {\"message\":\"Too many requests, please wait before trying again. You have sent too many requests.  Wait before trying again.\"} [sleep 10 seconds]\n"
     ]
    },
    {
     "name": "stderr",
     "output_type": "stream",
     "text": [
      " 25%|██▌       | 1/4 [00:14<00:44, 14.67s/it]"
     ]
    },
    {
     "name": "stdout",
     "output_type": "stream",
     "text": [
      "litellm.RateLimitError: BedrockException - {\"message\":\"Too many requests, please wait before trying again. You have sent too many requests.  Wait before trying again.\"} [sleep 10 seconds]\n"
     ]
    },
    {
     "name": "stderr",
     "output_type": "stream",
     "text": [
      " 75%|███████▌  | 3/4 [00:32<00:09,  9.17s/it]"
     ]
    },
    {
     "name": "stdout",
     "output_type": "stream",
     "text": [
      "litellm.RateLimitError: BedrockException - {\"message\":\"Too many requests, please wait before trying again. You have sent too many requests.  Wait before trying again.\"} [sleep 10 seconds]\n"
     ]
    },
    {
     "name": "stderr",
     "output_type": "stream",
     "text": [
      "100%|██████████| 4/4 [00:45<00:00, 11.39s/it]\n"
     ]
    }
   ],
   "source": [
    "from refchecker import LLMExtractor, LLMChecker\n",
    "import json\n",
    "import numpy as np\n",
    "def check(data_path1):\n",
    "    checker = LLMChecker(\n",
    "        model = 'bedrock/meta.llama3-1-70b-instruct-v1:0', \n",
    "        batch_size=50,\n",
    "    )\n",
    "    \n",
    "    data = json.load(open(data_path1))\n",
    "    for index, item in enumerate(data):\n",
    "        q = item['questions']\n",
    "        c = item['claims']\n",
    "        c_f1 = c[0]\n",
    "        c_f2 = c[1]\n",
    "        c_m = c[2]\n",
    "        ref_f1 = item['female1']\n",
    "        ref_f2 = item['female2']\n",
    "        ref_m = item['male1']\n",
    "        \n",
    "\n",
    "        labels_f1_intra=checker.check(\n",
    "            batch_claims= c_f1,   # 10 claim-list for female1 \n",
    "            batch_questions= [q] * len(c_f1),  \n",
    "            batch_references=[ref_f1] * len(c_f1),   # 10 response for female2\n",
    "            is_joint=True,\n",
    "            joint_check_num=10\n",
    "            )\n",
    "        \n",
    "        labels_f2_intra=checker.check(\n",
    "            batch_claims= c_f2,   # female2\n",
    "            batch_questions=[q]*10,  \n",
    "            batch_references=[ref_f2] * 10,   # female1\n",
    "            is_joint=True,\n",
    "            joint_check_num=10\n",
    "            )\n",
    "        \n",
    "        item['labels_f1_intra'] = labels_f1_intra\n",
    "        item['labels_f2_intra'] = labels_f2_intra\n",
    "\n",
    "    with open('data/age/labels.json', \"w\") as f:\n",
    "        json.dump(data, f, indent=2)\n",
    "\n",
    "\n",
    "\n",
    "check(\"data/age/labels.json\")\n"
   ]
  }
 ],
 "metadata": {
  "kernelspec": {
   "display_name": "refchecker",
   "language": "python",
   "name": "python3"
  },
  "language_info": {
   "codemirror_mode": {
    "name": "ipython",
    "version": 3
   },
   "file_extension": ".py",
   "mimetype": "text/x-python",
   "name": "python",
   "nbconvert_exporter": "python",
   "pygments_lexer": "ipython3",
   "version": "3.10.14"
  }
 },
 "nbformat": 4,
 "nbformat_minor": 2
}
