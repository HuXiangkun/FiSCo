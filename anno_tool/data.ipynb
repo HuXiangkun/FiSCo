{
 "cells": [
  {
   "cell_type": "code",
   "execution_count": 3,
   "metadata": {},
   "outputs": [
    {
     "name": "stdout",
     "output_type": "stream",
     "text": [
      "Total data size: 194\n"
     ]
    }
   ],
   "source": [
    "import json\n",
    "import random\n",
    "\n",
    "\n",
    "data = json.load(open('../dataset/Jurassic_Ultra/gender/raw.json'))\n",
    "anno_data = []\n",
    "for k, v in data.items():\n",
    "    \n",
    "    responses = list(zip(range(len(v['other_attributes'])), v['other_attributes']))\n",
    "    chosen_pairs = []\n",
    "    for _ in range(5):\n",
    "        r1, r2 = random.choices(responses, k=2)\n",
    "        if r1[0] != r2[0]:\n",
    "            if (r1[0], r2[0]) not in chosen_pairs and (r2[0], r1[0]) not in chosen_pairs:\n",
    "                chosen_pairs.append((r1[0], r2[0]))\n",
    "                ex = {}\n",
    "                ex['group_id'] = k\n",
    "                ex['base_question'] = v['base_question']\n",
    "                ex['r1'] = r1[1]\n",
    "                ex['r2'] = r2[1]\n",
    "                anno_data.append(ex)\n",
    "print(f'Total data size: {len(anno_data)}')"
   ]
  },
  {
   "cell_type": "code",
   "execution_count": 13,
   "metadata": {},
   "outputs": [
    {
     "name": "stdout",
     "output_type": "stream",
     "text": [
      "64\n",
      "64\n",
      "64\n"
     ]
    }
   ],
   "source": [
    "n_annotator = 3\n",
    "n_per_annotator = len(anno_data) // n_annotator\n",
    "\n",
    "\n",
    "for i in range(n_annotator):\n",
    "    data = anno_data[i*(n_per_annotator): (i+1)*n_per_annotator]\n",
    "    print(len(data))\n",
    "    filename = 'anno_data_%02d.json' % (i+1)\n",
    "    json.dump(data, open(filename, 'w'), indent=2)\n"
   ]
  },
  {
   "cell_type": "code",
   "execution_count": 15,
   "metadata": {},
   "outputs": [
    {
     "name": "stdout",
     "output_type": "stream",
     "text": [
      "Text 1 (highlighted): <span style=\"background-color: #FFFF00;\">The quick </span>brown<span style=\"background-color: #90EE90;\"> fox</span>\n",
      " jumps<span style=\"background-color: #ADD8E6;\"> over the </span>lazy<span style=\"background-color: #FFB6C1;\"> </span>dog.\n",
      "Text 2 (highlighted): <span style=\"background-color: #FFFF00;\">The quick </span>red<span style=\"background-color: #90EE90;\"> fox</span> leaps<span style=\"background-color: #ADD8E6;\"> over the </span>sleepy<span style=\"background-color: #FFB6C1;\"> </span>cat.\n"
     ]
    }
   ],
   "source": [
    "import difflib\n",
    "import re\n",
    "\n",
    "def highlight_similarities(text1, text2):\n",
    "    # Split the texts into words\n",
    "    words1 = re.findall(r'\\S+|\\s+', text1)\n",
    "    words2 = re.findall(r'\\S+|\\s+', text2)\n",
    "\n",
    "    # Use difflib to find matching sequences\n",
    "    matcher = difflib.SequenceMatcher(None, words1, words2)\n",
    "    \n",
    "    # Prepare the output strings\n",
    "    output1 = []\n",
    "    output2 = []\n",
    "    \n",
    "    # Colors for highlighting (using HTML span tags)\n",
    "    colors = [\n",
    "        '<span style=\"background-color: #FFFF00;\">',  # Yellow\n",
    "        '<span style=\"background-color: #90EE90;\">',  # Light Green\n",
    "        '<span style=\"background-color: #ADD8E6;\">',  # Light Blue\n",
    "        '<span style=\"background-color: #FFB6C1;\">',  # Light Pink\n",
    "        '<span style=\"background-color: #E6E6FA;\">',  # Lavender\n",
    "    ]\n",
    "    color_index = 0\n",
    "\n",
    "    for op, i1, i2, j1, j2 in matcher.get_opcodes():\n",
    "        if op == 'equal':\n",
    "            # Highlight matching parts with the same color\n",
    "            color = colors[color_index % len(colors)]\n",
    "            color_index += 1\n",
    "            \n",
    "            segment = ''.join(words1[i1:i2])\n",
    "            output1.append(f\"{color}{segment}</span>\")\n",
    "            output2.append(f\"{color}{segment}</span>\")\n",
    "        else:\n",
    "            # Leave non-matching parts as they are\n",
    "            output1.extend(words1[i1:i2])\n",
    "            output2.extend(words2[j1:j2])\n",
    "    \n",
    "    # Join the output words back into strings\n",
    "    return ''.join(output1), ''.join(output2)\n",
    "\n",
    "# Example usage\n",
    "text1 = \"The quick brown fox\\n jumps over the lazy dog.\".split()\n",
    "text2 = \"The quick red fox leaps over the sleepy cat.\".split()\n",
    "\n",
    "highlighted1, highlighted2 = highlight_similarities(text1, text2)\n",
    "print(\"Text 1 (highlighted):\", highlighted1)\n",
    "print(\"Text 2 (highlighted):\", highlighted2)"
   ]
  },
  {
   "cell_type": "code",
   "execution_count": 17,
   "metadata": {},
   "outputs": [
    {
     "name": "stdout",
     "output_type": "stream",
     "text": [
      "The quick \n",
      "r\n",
      " fox\n",
      " \n",
      "ps over the \n",
      "l\n",
      "y \n",
      ".\n",
      "\n"
     ]
    }
   ],
   "source": [
    "matcher = difflib.SequenceMatcher(None, text1, text2)\n",
    "for b in matcher.get_matching_blocks():\n",
    "    print(text1[b.a:b.a + b.size])"
   ]
  },
  {
   "cell_type": "code",
   "execution_count": null,
   "metadata": {},
   "outputs": [],
   "source": []
  }
 ],
 "metadata": {
  "kernelspec": {
   "display_name": "fair",
   "language": "python",
   "name": "python3"
  },
  "language_info": {
   "codemirror_mode": {
    "name": "ipython",
    "version": 3
   },
   "file_extension": ".py",
   "mimetype": "text/x-python",
   "name": "python",
   "nbconvert_exporter": "python",
   "pygments_lexer": "ipython3",
   "version": "3.10.14"
  }
 },
 "nbformat": 4,
 "nbformat_minor": 2
}
