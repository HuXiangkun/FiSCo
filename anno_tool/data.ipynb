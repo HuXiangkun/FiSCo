{
 "cells": [
  {
   "cell_type": "code",
   "execution_count": 3,
   "metadata": {},
   "outputs": [
    {
     "name": "stdout",
     "output_type": "stream",
     "text": [
      "Total data size: 194\n"
     ]
    }
   ],
   "source": [
    "import json\n",
    "import random\n",
    "\n",
    "\n",
    "data = json.load(open('../dataset/Jurassic_Ultra/gender/raw.json'))\n",
    "anno_data = []\n",
    "for k, v in data.items():\n",
    "    \n",
    "    responses = list(zip(range(len(v['other_attributes'])), v['other_attributes']))\n",
    "    chosen_pairs = []\n",
    "    for _ in range(5):\n",
    "        r1, r2 = random.choices(responses, k=2)\n",
    "        if r1[0] != r2[0]:\n",
    "            if (r1[0], r2[0]) not in chosen_pairs and (r2[0], r1[0]) not in chosen_pairs:\n",
    "                chosen_pairs.append((r1[0], r2[0]))\n",
    "                ex = {}\n",
    "                ex['group_id'] = k\n",
    "                ex['base_question'] = v['base_question']\n",
    "                ex['r1'] = r1[1]\n",
    "                ex['r2'] = r2[1]\n",
    "                anno_data.append(ex)\n",
    "print(f'Total data size: {len(anno_data)}')"
   ]
  },
  {
   "cell_type": "code",
   "execution_count": 13,
   "metadata": {},
   "outputs": [
    {
     "name": "stdout",
     "output_type": "stream",
     "text": [
      "64\n",
      "64\n",
      "64\n"
     ]
    }
   ],
   "source": [
    "n_annotator = 3\n",
    "n_per_annotator = len(anno_data) // n_annotator\n",
    "\n",
    "\n",
    "for i in range(n_annotator):\n",
    "    data = anno_data[i*(n_per_annotator): (i+1)*n_per_annotator]\n",
    "    print(len(data))\n",
    "    filename = 'anno_data_%02d.json' % (i+1)\n",
    "    json.dump(data, open(filename, 'w'), indent=2)\n"
   ]
  },
  {
   "cell_type": "code",
   "execution_count": null,
   "metadata": {},
   "outputs": [],
   "source": []
  }
 ],
 "metadata": {
  "kernelspec": {
   "display_name": "fair",
   "language": "python",
   "name": "python3"
  },
  "language_info": {
   "codemirror_mode": {
    "name": "ipython",
    "version": 3
   },
   "file_extension": ".py",
   "mimetype": "text/x-python",
   "name": "python",
   "nbconvert_exporter": "python",
   "pygments_lexer": "ipython3",
   "version": "3.10.14"
  }
 },
 "nbformat": 4,
 "nbformat_minor": 2
}
