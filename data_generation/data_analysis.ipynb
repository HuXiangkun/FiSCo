{
 "cells": [
  {
   "cell_type": "code",
   "execution_count": 3,
   "metadata": {},
   "outputs": [
    {
     "data": {
      "text/html": [
       "<div>\n",
       "<style scoped>\n",
       "    .dataframe tbody tr th:only-of-type {\n",
       "        vertical-align: middle;\n",
       "    }\n",
       "\n",
       "    .dataframe tbody tr th {\n",
       "        vertical-align: top;\n",
       "    }\n",
       "\n",
       "    .dataframe thead th {\n",
       "        text-align: right;\n",
       "    }\n",
       "</style>\n",
       "<table border=\"1\" class=\"dataframe\">\n",
       "  <thead>\n",
       "    <tr style=\"text-align: right;\">\n",
       "      <th></th>\n",
       "      <th>text</th>\n",
       "    </tr>\n",
       "  </thead>\n",
       "  <tbody>\n",
       "    <tr>\n",
       "      <th>0</th>\n",
       "      <td>\\nMy name is [NAME]. I grew up in Indiana and ...</td>\n",
       "    </tr>\n",
       "  </tbody>\n",
       "</table>\n",
       "</div>"
      ],
      "text/plain": [
       "                                                text\n",
       "0  \\nMy name is [NAME]. I grew up in Indiana and ..."
      ]
     },
     "execution_count": 3,
     "metadata": {},
     "output_type": "execute_result"
    }
   ],
   "source": [
    "df"
   ]
  },
  {
   "cell_type": "code",
   "execution_count": 2,
   "metadata": {},
   "outputs": [
    {
     "data": {
      "text/plain": [
       "(1, 1)"
      ]
     },
     "execution_count": 2,
     "metadata": {},
     "output_type": "execute_result"
    }
   ],
   "source": [
    "import pandas as pd\n",
    "df = pd.read_parquet('synthetic_data_step1.parquet')\n",
    "df.shape"
   ]
  },
  {
   "cell_type": "code",
   "execution_count": 25,
   "metadata": {},
   "outputs": [],
   "source": [
    "import pandas as pd\n",
    "df = pd.read_parquet('synthetic_data_step2_race.parquet')\n",
    "df.shape\n",
    "d = {}\n",
    "for i in df.values:\n",
    "    if i[0] not in d:\n",
    "        d[i[0]] = {}\n",
    "        d[i[0]][\"base_question\"] = i[1]\n",
    "        d[i[0]][\"other_attributes\"] = [{\"gender\": i[3], \"name\": i[2], \"outputs\": i[-1]}]\n",
    "\n",
    "    else:\n",
    "        d[i[0]][\"other_attributes\"].append([{\"gender\": i[3], \"name\": i[2], \"outputs\": i[-1]}])\n",
    "import json\n",
    "with open('synthetic_data_step2_race.json', 'w') as f:\n",
    "    json.dump(d, f, indent=2)"
   ]
  },
  {
   "cell_type": "code",
   "execution_count": 17,
   "metadata": {},
   "outputs": [],
   "source": []
  },
  {
   "cell_type": "code",
   "execution_count": 18,
   "metadata": {},
   "outputs": [],
   "source": [
    "for i in range(df.shape[0]):\n",
    "    if len(df.output[i].split()) < 50:\n",
    "        print(len(df.output[i].split()),df.output[i])"
   ]
  },
  {
   "cell_type": "code",
   "execution_count": null,
   "metadata": {},
   "outputs": [],
   "source": [
    "# gender\n",
    "# group number, male / female, input, output\n",
    "\n",
    "\n",
    "# race\n",
    "# group number, race, input, output\n",
    "\n"
   ]
  },
  {
   "cell_type": "code",
   "execution_count": null,
   "metadata": {},
   "outputs": [],
   "source": [
    "import re\n",
    "import pandas as pd\n",
    "\n",
    "# Sample text\n",
    "text = \"\"\"\n",
    "Running method rsf on dataset SUPPORT with percentage 1 for missing experiments missing\n",
    "There are no missing values in the DataFrame.\n",
    "There are no missing values in the DataFrame.\n",
    "There are no missing values in the DataFrame.\n",
    "{'C-index': 0.7002855713223363, 'Brier': 0.18906107034397518, 'NBLL': 0.5579322498848573}\n",
    "Running method cph on dataset SUPPORT with percentage 1 for missing experiments missing\n",
    "There are no missing values in the DataFrame.\n",
    "There are no missing values in the DataFrame.\n",
    "There are no missing values in the DataFrame.\n",
    "{'C-index': 0.6609275953678286, 'Brier': 0.18319056616924, 'NBLL': 0.5437676530372589}\n",
    "Running method dcph on dataset SUPPORT with percentage 1 for missing experiments missing\n",
    "There are no missing values in the DataFrame.\n",
    "There are no missing values in the DataFrame.\n",
    "There are no missing values in the DataFrame.\n",
    "{'C-index': 0.6753443857452085, 'Brier': 0.1782727323019906, 'NBLL': 0.5364786393740759}\n",
    "Running method dsm on dataset SUPPORT with percentage 1 for missing experiments missing\n",
    "There are no missing values in the DataFrame.\n",
    "There are no missing values in the DataFrame.\n",
    "There are no missing values in the DataFrame.\n",
    "{'C-index': 0.6881163074218134, 'Brier': 0.17825007378882707, 'NBLL': 0.5664194959684179}\n",
    "Running method dcm on dataset SUPPORT with percentage 1 for missing experiments missing\n",
    "There are no missing values in the DataFrame.\n",
    "There are no missing values in the DataFrame.\n",
    "There are no missing values in the DataFrame.\n",
    "{'C-index': 0.6996718556054085, 'Brier': 0.1727844453861909, 'NBLL': 0.5216976235253725}\n",
    "Running method deephit on dataset SUPPORT with percentage 1 for missing experiments missing\n",
    "{'C-index': 0.6599849059107459, 'Brier': 0.20640953153897132, 'NBLL': 0.6005050213037785}\n",
    "Running method MTLR on dataset SUPPORT with percentage 1 for missing experiments missing\n",
    "{'C-index': 0.6787336446143681, 'Brier': 0.17702761413240695, 'NBLL': 0.531991751988478}\n",
    "Running method rsf on dataset metabric with percentage 1 for missing experiments missing\n",
    "There are no missing values in the DataFrame.\n",
    "There are no missing values in the DataFrame.\n",
    "There are no missing values in the DataFrame.\n",
    "{'C-index': 0.6659791965566715, 'Brier': 0.18288376115549942, 'NBLL': 0.5383396083361561}\n",
    "\"\"\"\n",
    "\n",
    "# Regular expression to match the required fields\n",
    "pattern = re.compile(r\"Running method (\\w+) on dataset (\\w+) with percentage (\\d+) for missing experiments (\\w+).*?{'C-index': ([\\d.]+), 'Brier': ([\\d.]+), 'NBLL': ([\\d.]+)}\", re.DOTALL)\n",
    "\n",
    "# Find all matches\n",
    "matches = pattern.findall(text)\n",
    "\n",
    "# Convert matches to a DataFrame\n",
    "df = pd.DataFrame(matches, columns=['Method', 'Dataset', 'Percentage', 'Experiments', 'C-index', 'Brier', 'NBLL'])\n",
    "\n",
    "# Convert numeric fields to float\n",
    "df['C-index'] = df['C-index'].astype(float)\n",
    "df['Brier'] = df['Brier'].astype(float)\n",
    "df['NBLL'] = df['NBLL'].astype(float)\n",
    "\n"
   ]
  },
  {
   "cell_type": "code",
   "execution_count": null,
   "metadata": {},
   "outputs": [],
   "source": [
    "df"
   ]
  },
  {
   "cell_type": "code",
   "execution_count": 4,
   "metadata": {},
   "outputs": [],
   "source": [
    "from synthetic_data import *\n",
    "import pandas as pd"
   ]
  },
  {
   "cell_type": "code",
   "execution_count": 9,
   "metadata": {},
   "outputs": [],
   "source": [
    "pd.DataFrame(RACIAL_CHARGED_PROMPTS + OPEN_ENDED_PROMPTS + GENDER_BASED_PROMPTS + EMOTIONAL_INTERPERSONAL_PROMPTS, columns = ['text']).to_parquet('bias_provoking_prompts.parquet')"
   ]
  },
  {
   "cell_type": "code",
   "execution_count": null,
   "metadata": {},
   "outputs": [],
   "source": []
  }
 ],
 "metadata": {
  "kernelspec": {
   "display_name": "env-01",
   "language": "python",
   "name": "python3"
  },
  "language_info": {
   "codemirror_mode": {
    "name": "ipython",
    "version": 3
   },
   "file_extension": ".py",
   "mimetype": "text/x-python",
   "name": "python",
   "nbconvert_exporter": "python",
   "pygments_lexer": "ipython3",
   "version": "3.10.10"
  }
 },
 "nbformat": 4,
 "nbformat_minor": 2
}
