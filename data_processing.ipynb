{
 "cells": [
  {
   "cell_type": "code",
   "execution_count": 12,
   "metadata": {},
   "outputs": [],
   "source": [
    "import json\n",
    "\n",
    "\n",
    "data = json.load(open('/home/ubuntu/wyw/data_new/race/Mistral1_race.json'))\n",
    "for _id, d in data.items():\n",
    "    other_attributes = []\n",
    "    for a in d['other_attributes']:\n",
    "        if isinstance(a, list):\n",
    "            other_attributes.append(a[0])\n",
    "        else:\n",
    "            other_attributes.append(a)\n",
    "    d['other_attributes'] = other_attributes\n",
    "    data[_id] = d\n",
    "json.dump(data, open('/home/ubuntu/wyw/data_processed/race/Mistral1_race.json', 'w'), indent=2)"
   ]
  },
  {
   "cell_type": "markdown",
   "metadata": {},
   "source": []
  },
  {
   "cell_type": "code",
   "execution_count": null,
   "metadata": {},
   "outputs": [],
   "source": []
  }
 ],
 "metadata": {
  "kernelspec": {
   "display_name": "rc-fair",
   "language": "python",
   "name": "python3"
  },
  "language_info": {
   "codemirror_mode": {
    "name": "ipython",
    "version": 3
   },
   "file_extension": ".py",
   "mimetype": "text/x-python",
   "name": "python",
   "nbconvert_exporter": "python",
   "pygments_lexer": "ipython3",
   "version": "3.10.14"
  }
 },
 "nbformat": 4,
 "nbformat_minor": 2
}
