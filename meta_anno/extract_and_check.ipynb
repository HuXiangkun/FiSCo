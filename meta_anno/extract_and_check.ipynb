{
 "cells": [
  {
   "cell_type": "code",
   "execution_count": 1,
   "metadata": {},
   "outputs": [],
   "source": [
    "def replace_name(text):\n",
    "    # 替换 [name] 和 [NAME] 为 Jane\n",
    "    text = text.replace('[name]', 'Jane')\n",
    "    text = text.replace('[NAME]', 'Jane')\n",
    "    text = text.replace('[age]', '50')\n",
    "    text = text.replace('[AGE]', '50')\n",
    "    return text"
   ]
  },
  {
   "cell_type": "code",
   "execution_count": 2,
   "metadata": {},
   "outputs": [
    {
     "name": "stderr",
     "output_type": "stream",
     "text": [
      "/opt/conda/envs/refchecker/lib/python3.10/site-packages/tqdm/auto.py:21: TqdmWarning: IProgress not found. Please update jupyter and ipywidgets. See https://ipywidgets.readthedocs.io/en/stable/user_install.html\n",
      "  from .autonotebook import tqdm as notebook_tqdm\n"
     ]
    },
    {
     "name": "stdout",
     "output_type": "stream",
     "text": [
      "Warning: scikit-learn-intelex not installed, sklearn acceleration for the RepC checker is not enabled.\n"
     ]
    },
    {
     "name": "stderr",
     "output_type": "stream",
     "text": [
      "100%|██████████| 8/8 [03:58<00:00, 29.80s/it]\n",
      "100%|██████████| 8/8 [02:17<00:00, 17.22s/it]\n",
      "  0%|          | 0/8 [00:00<?, ?it/s]"
     ]
    },
    {
     "name": "stdout",
     "output_type": "stream",
     "text": [
      "litellm.APIConnectionError: [Errno 9] Bad file descriptor\n",
      "Traceback (most recent call last):\n",
      "  File \"/opt/conda/envs/refchecker/lib/python3.10/site-packages/httpx/_transports/default.py\", line 69, in map_httpcore_exceptions\n",
      "    yield\n",
      "  File \"/opt/conda/envs/refchecker/lib/python3.10/site-packages/httpx/_transports/default.py\", line 233, in handle_request\n",
      "    resp = self._pool.handle_request(req)\n",
      "  File \"/opt/conda/envs/refchecker/lib/python3.10/site-packages/httpcore/_sync/connection_pool.py\", line 216, in handle_request\n",
      "    raise exc from None\n",
      "  File \"/opt/conda/envs/refchecker/lib/python3.10/site-packages/httpcore/_sync/connection_pool.py\", line 196, in handle_request\n",
      "    response = connection.handle_request(\n",
      "  File \"/opt/conda/envs/refchecker/lib/python3.10/site-packages/httpcore/_sync/connection.py\", line 101, in handle_request\n",
      "    return self._connection.handle_request(request)\n",
      "  File \"/opt/conda/envs/refchecker/lib/python3.10/site-packages/httpcore/_sync/http11.py\", line 143, in handle_request\n",
      "    raise exc\n",
      "  File \"/opt/conda/envs/refchecker/lib/python3.10/site-packages/httpcore/_sync/http11.py\", line 113, in handle_request\n",
      "    ) = self._receive_response_headers(**kwargs)\n",
      "  File \"/opt/conda/envs/refchecker/lib/python3.10/site-packages/httpcore/_sync/http11.py\", line 186, in _receive_response_headers\n",
      "    event = self._receive_event(timeout=timeout)\n",
      "  File \"/opt/conda/envs/refchecker/lib/python3.10/site-packages/httpcore/_sync/http11.py\", line 224, in _receive_event\n",
      "    data = self._network_stream.read(\n",
      "  File \"/opt/conda/envs/refchecker/lib/python3.10/site-packages/httpcore/_backends/sync.py\", line 124, in read\n",
      "    with map_exceptions(exc_map):\n",
      "  File \"/opt/conda/envs/refchecker/lib/python3.10/contextlib.py\", line 153, in __exit__\n",
      "    self.gen.throw(typ, value, traceback)\n",
      "  File \"/opt/conda/envs/refchecker/lib/python3.10/site-packages/httpcore/_exceptions.py\", line 14, in map_exceptions\n",
      "    raise to_exc(exc) from exc\n",
      "httpcore.ReadError: [Errno 9] Bad file descriptor\n",
      "\n",
      "The above exception was the direct cause of the following exception:\n",
      "\n",
      "Traceback (most recent call last):\n",
      "  File \"/opt/conda/envs/refchecker/lib/python3.10/site-packages/litellm/main.py\", line 2293, in completion\n",
      "    response = bedrock_chat_completion.completion(\n",
      "  File \"/opt/conda/envs/refchecker/lib/python3.10/site-packages/litellm/llms/bedrock_httpx.py\", line 1094, in completion\n",
      "    response = self.client.post(url=prepped.url, headers=prepped.headers, data=data)  # type: ignore\n",
      "  File \"/opt/conda/envs/refchecker/lib/python3.10/site-packages/litellm/llms/custom_httpx/http_handler.py\", line 200, in post\n",
      "    response = self.client.send(req, stream=stream)\n",
      "  File \"/opt/conda/envs/refchecker/lib/python3.10/site-packages/httpx/_client.py\", line 914, in send\n",
      "    response = self._send_handling_auth(\n",
      "  File \"/opt/conda/envs/refchecker/lib/python3.10/site-packages/httpx/_client.py\", line 942, in _send_handling_auth\n",
      "    response = self._send_handling_redirects(\n",
      "  File \"/opt/conda/envs/refchecker/lib/python3.10/site-packages/httpx/_client.py\", line 979, in _send_handling_redirects\n",
      "    response = self._send_single_request(request)\n",
      "  File \"/opt/conda/envs/refchecker/lib/python3.10/site-packages/httpx/_client.py\", line 1015, in _send_single_request\n",
      "    response = transport.handle_request(request)\n",
      "  File \"/opt/conda/envs/refchecker/lib/python3.10/site-packages/httpx/_transports/default.py\", line 232, in handle_request\n",
      "    with map_httpcore_exceptions():\n",
      "  File \"/opt/conda/envs/refchecker/lib/python3.10/contextlib.py\", line 153, in __exit__\n",
      "    self.gen.throw(typ, value, traceback)\n",
      "  File \"/opt/conda/envs/refchecker/lib/python3.10/site-packages/httpx/_transports/default.py\", line 86, in map_httpcore_exceptions\n",
      "    raise mapped_exc(message) from exc\n",
      "httpx.ReadError: [Errno 9] Bad file descriptor\n",
      " [sleep 10 seconds]\n"
     ]
    },
    {
     "name": "stderr",
     "output_type": "stream",
     "text": [
      "100%|██████████| 8/8 [04:20<00:00, 32.51s/it]\n"
     ]
    }
   ],
   "source": [
    "import json\n",
    "from refchecker import LLMExtractor\n",
    "\n",
    "data_path1 = 'data/raw.json'\n",
    "data_path2 = 'data/claims.json'\n",
    "\n",
    "def replace_name(text):\n",
    "    # 替换 [name] 和 [NAME] 为 Jane\n",
    "    text = text.replace('[name]', 'Jane')\n",
    "    text = text.replace('[NAME]', 'Jane')\n",
    "    text = text.replace('[age]', '50')\n",
    "    text = text.replace('[AGE]', '50')\n",
    "    return text\n",
    "\n",
    "def extract(data_path1, data_path2):\n",
    "    extractor = LLMExtractor(\n",
    "    claim_format='triplet', \n",
    "    model='bedrock/meta.llama3-1-70b-instruct-v1:0',\n",
    "    batch_size=50,\n",
    "    )\n",
    "    data = json.load(open(data_path1))\n",
    "\n",
    "    batch_responses_ref = []\n",
    "    batch_responses_t1= []\n",
    "    batch_responses_t2 = [] \n",
    "\n",
    "    for d in data:\n",
    "        ref = d[\"reference\"]\n",
    "        text1 = d[\"text1\"]\n",
    "        text2 = d[\"text2\"]\n",
    "\n",
    "        batch_responses_ref.append(replace_name(ref))\n",
    "        batch_responses_t1.append(replace_name(text1))\n",
    "        batch_responses_t2.append(replace_name(text2)) \n",
    "\n",
    "    response_extract_results = extractor.extract(\n",
    "        batch_responses=batch_responses_ref\n",
    "    )\n",
    "    response_claims_ref = [[c.content for c in res.claims] for res in response_extract_results]\n",
    "    for d_id,d in enumerate(data):\n",
    "        if len(data) == 1:\n",
    "            d['claims_ref'] = response_claims_ref\n",
    "        else:\n",
    "            d['claims_ref'] = response_claims_ref[int(d_id)]\n",
    "\n",
    "    response_extract_results = extractor.extract(\n",
    "        batch_responses=batch_responses_t1\n",
    "    )\n",
    "    response_claims_t1 = [[c.content for c in res.claims] for res in response_extract_results]\n",
    "    for d_id,d in enumerate(data):\n",
    "        if len(data) == 1:\n",
    "            d['claims_t1'] = response_claims_t1\n",
    "        else:\n",
    "            d['claims_t1'] = response_claims_t1[int(d_id)]\n",
    "\n",
    "    response_extract_results = extractor.extract(\n",
    "        batch_responses=batch_responses_t2\n",
    "    )\n",
    "    response_claims_t2 = [[c.content for c in res.claims] for res in response_extract_results]\n",
    "    for d_id,d in enumerate(data):\n",
    "        if len(data) == 1:\n",
    "            d['claims_t2'] = response_claims_t2\n",
    "        else:\n",
    "            d['claims_t2'] = response_claims_t2[int(d_id)]\n",
    "    \n",
    "    with open(data_path2, 'w') as f:  \n",
    "        json.dump(data, f, indent=4)\n",
    "\n",
    "extract(data_path1, data_path2)      "
   ]
  },
  {
   "cell_type": "code",
   "execution_count": 3,
   "metadata": {},
   "outputs": [
    {
     "name": "stderr",
     "output_type": "stream",
     "text": [
      "100%|██████████| 2/2 [00:02<00:00,  1.34s/it]\n",
      "100%|██████████| 2/2 [00:03<00:00,  1.56s/it]\n",
      "100%|██████████| 1/1 [00:01<00:00,  1.79s/it]\n",
      "100%|██████████| 1/1 [00:02<00:00,  2.01s/it]\n",
      "100%|██████████| 1/1 [00:01<00:00,  1.69s/it]\n",
      "100%|██████████| 1/1 [00:01<00:00,  1.66s/it]\n",
      "100%|██████████| 1/1 [00:01<00:00,  1.30s/it]\n",
      "100%|██████████| 1/1 [00:03<00:00,  3.13s/it]\n",
      "100%|██████████| 1/1 [00:01<00:00,  1.91s/it]\n",
      "100%|██████████| 1/1 [00:01<00:00,  1.66s/it]\n",
      "100%|██████████| 1/1 [00:01<00:00,  1.70s/it]\n",
      "100%|██████████| 1/1 [00:01<00:00,  1.38s/it]\n",
      "100%|██████████| 1/1 [00:01<00:00,  1.64s/it]\n",
      "100%|██████████| 1/1 [00:01<00:00,  1.93s/it]\n",
      "100%|██████████| 1/1 [00:01<00:00,  1.50s/it]\n",
      "  0%|          | 0/1 [00:00<?, ?it/s]"
     ]
    },
    {
     "name": "stdout",
     "output_type": "stream",
     "text": [
      "litellm.RateLimitError: BedrockException - {\"message\":\"Too many requests, please wait before trying again. You have sent too many requests.  Wait before trying again.\"} [sleep 10 seconds]\n"
     ]
    },
    {
     "name": "stderr",
     "output_type": "stream",
     "text": [
      "100%|██████████| 1/1 [00:14<00:00, 14.04s/it]\n",
      "100%|██████████| 1/1 [00:02<00:00,  2.23s/it]\n",
      "100%|██████████| 1/1 [00:01<00:00,  1.56s/it]\n",
      "  0%|          | 0/1 [00:00<?, ?it/s]"
     ]
    },
    {
     "name": "stdout",
     "output_type": "stream",
     "text": [
      "litellm.RateLimitError: BedrockException - {\"message\":\"Too many requests, please wait before trying again. You have sent too many requests.  Wait before trying again.\"} [sleep 10 seconds]\n"
     ]
    },
    {
     "name": "stderr",
     "output_type": "stream",
     "text": [
      "100%|██████████| 1/1 [00:48<00:00, 48.06s/it]\n",
      "100%|██████████| 1/1 [00:01<00:00,  1.37s/it]\n",
      "100%|██████████| 1/1 [00:01<00:00,  1.37s/it]\n",
      "100%|██████████| 2/2 [00:02<00:00,  1.33s/it]\n",
      "100%|██████████| 1/1 [00:01<00:00,  1.64s/it]\n",
      "100%|██████████| 2/2 [00:04<00:00,  2.29s/it]\n",
      "100%|██████████| 1/1 [00:02<00:00,  2.40s/it]\n",
      "100%|██████████| 1/1 [00:01<00:00,  1.83s/it]\n",
      "100%|██████████| 1/1 [00:01<00:00,  1.99s/it]\n",
      "100%|██████████| 1/1 [00:01<00:00,  1.44s/it]\n",
      "100%|██████████| 1/1 [00:01<00:00,  1.80s/it]\n",
      "  0%|          | 0/1 [00:00<?, ?it/s]"
     ]
    },
    {
     "name": "stdout",
     "output_type": "stream",
     "text": [
      "litellm.RateLimitError: BedrockException - {\"message\":\"Too many requests, please wait before trying again. You have sent too many requests.  Wait before trying again.\"} [sleep 10 seconds]\n"
     ]
    },
    {
     "name": "stderr",
     "output_type": "stream",
     "text": [
      "100%|██████████| 1/1 [00:13<00:00, 13.74s/it]\n",
      "100%|██████████| 1/1 [00:01<00:00,  1.73s/it]\n",
      "  0%|          | 0/2 [00:00<?, ?it/s]"
     ]
    },
    {
     "name": "stdout",
     "output_type": "stream",
     "text": [
      "litellm.RateLimitError: BedrockException - {\"message\":\"Too many requests, please wait before trying again. You have sent too many requests.  Wait before trying again.\"} [sleep 10 seconds]\n"
     ]
    },
    {
     "name": "stderr",
     "output_type": "stream",
     "text": [
      "100%|██████████| 2/2 [00:55<00:00, 28.00s/it]\n",
      "100%|██████████| 1/1 [00:01<00:00,  1.47s/it]\n",
      "100%|██████████| 1/1 [00:01<00:00,  1.83s/it]\n",
      "100%|██████████| 1/1 [00:02<00:00,  2.15s/it]\n",
      "100%|██████████| 2/2 [00:03<00:00,  1.52s/it]\n",
      "100%|██████████| 1/1 [00:02<00:00,  2.44s/it]\n",
      "100%|██████████| 1/1 [00:01<00:00,  1.63s/it]\n",
      "100%|██████████| 2/2 [00:02<00:00,  1.50s/it]\n",
      "100%|██████████| 2/2 [00:03<00:00,  1.55s/it]\n",
      "100%|██████████| 2/2 [00:02<00:00,  1.26s/it]\n",
      "100%|██████████| 1/1 [00:02<00:00,  2.70s/it]\n",
      "  0%|          | 0/1 [00:00<?, ?it/s]"
     ]
    },
    {
     "name": "stdout",
     "output_type": "stream",
     "text": [
      "litellm.RateLimitError: BedrockException - {\"message\":\"Too many requests, please wait before trying again. You have sent too many requests.  Wait before trying again.\"} [sleep 10 seconds]\n"
     ]
    },
    {
     "name": "stderr",
     "output_type": "stream",
     "text": [
      "100%|██████████| 1/1 [00:14<00:00, 14.02s/it]\n",
      "100%|██████████| 1/1 [00:27<00:00, 27.92s/it]\n",
      "100%|██████████| 1/1 [00:01<00:00,  1.95s/it]\n",
      "100%|██████████| 2/2 [00:16<00:00,  8.42s/it]\n",
      "100%|██████████| 1/1 [00:01<00:00,  1.65s/it]\n",
      "100%|██████████| 1/1 [00:01<00:00,  1.82s/it]\n",
      "100%|██████████| 1/1 [00:02<00:00,  2.36s/it]\n",
      "100%|██████████| 1/1 [00:02<00:00,  2.38s/it]\n",
      "100%|██████████| 1/1 [00:01<00:00,  1.68s/it]\n",
      "100%|██████████| 1/1 [00:01<00:00,  2.00s/it]\n",
      "100%|██████████| 2/2 [00:03<00:00,  1.59s/it]\n",
      "100%|██████████| 1/1 [00:01<00:00,  1.60s/it]\n",
      "100%|██████████| 1/1 [00:01<00:00,  1.27s/it]\n",
      "  0%|          | 0/1 [00:00<?, ?it/s]"
     ]
    },
    {
     "name": "stdout",
     "output_type": "stream",
     "text": [
      "litellm.RateLimitError: BedrockException - {\"message\":\"Too many requests, please wait before trying again. You have sent too many requests.  Wait before trying again.\"} [sleep 10 seconds]\n"
     ]
    },
    {
     "name": "stderr",
     "output_type": "stream",
     "text": [
      "100%|██████████| 1/1 [00:13<00:00, 13.14s/it]\n",
      "100%|██████████| 1/1 [00:02<00:00,  2.03s/it]\n",
      "  0%|          | 0/1 [00:00<?, ?it/s]"
     ]
    },
    {
     "name": "stdout",
     "output_type": "stream",
     "text": [
      "litellm.RateLimitError: BedrockException - {\"message\":\"Too many requests, please wait before trying again. You have sent too many requests.  Wait before trying again.\"} [sleep 10 seconds]\n"
     ]
    },
    {
     "name": "stderr",
     "output_type": "stream",
     "text": [
      "100%|██████████| 1/1 [00:13<00:00, 13.46s/it]\n",
      "100%|██████████| 1/1 [00:01<00:00,  1.47s/it]\n",
      "100%|██████████| 1/1 [00:01<00:00,  1.65s/it]\n",
      "  0%|          | 0/1 [00:00<?, ?it/s]"
     ]
    },
    {
     "name": "stdout",
     "output_type": "stream",
     "text": [
      "litellm.RateLimitError: BedrockException - {\"message\":\"Too many requests, please wait before trying again. You have sent too many requests.  Wait before trying again.\"} [sleep 10 seconds]\n"
     ]
    },
    {
     "name": "stderr",
     "output_type": "stream",
     "text": [
      "100%|██████████| 1/1 [00:15<00:00, 15.00s/it]\n",
      "100%|██████████| 1/1 [00:01<00:00,  1.66s/it]\n",
      "100%|██████████| 1/1 [00:01<00:00,  1.42s/it]\n",
      "  0%|          | 0/2 [00:00<?, ?it/s]"
     ]
    },
    {
     "name": "stdout",
     "output_type": "stream",
     "text": [
      "litellm.RateLimitError: BedrockException - {\"message\":\"Too many requests, please wait before trying again. You have sent too many requests.  Wait before trying again.\"} [sleep 10 seconds]\n"
     ]
    },
    {
     "name": "stderr",
     "output_type": "stream",
     "text": [
      "100%|██████████| 2/2 [00:14<00:00,  7.42s/it]\n",
      "100%|██████████| 1/1 [00:01<00:00,  1.51s/it]\n",
      "  0%|          | 0/2 [00:00<?, ?it/s]"
     ]
    },
    {
     "name": "stdout",
     "output_type": "stream",
     "text": [
      "litellm.RateLimitError: BedrockException - {\"message\":\"Too many requests, please wait before trying again. You have sent too many requests.  Wait before trying again.\"} [sleep 10 seconds]\n"
     ]
    },
    {
     "name": "stderr",
     "output_type": "stream",
     "text": [
      "100%|██████████| 2/2 [00:14<00:00,  7.43s/it]\n",
      "  0%|          | 0/1 [00:00<?, ?it/s]"
     ]
    },
    {
     "name": "stdout",
     "output_type": "stream",
     "text": [
      "litellm.RateLimitError: BedrockException - {\"message\":\"Too many requests, please wait before trying again. You have sent too many requests.  Wait before trying again.\"} [sleep 10 seconds]\n"
     ]
    },
    {
     "name": "stderr",
     "output_type": "stream",
     "text": [
      "100%|██████████| 1/1 [00:14<00:00, 14.67s/it]\n",
      "100%|██████████| 1/1 [00:01<00:00,  1.90s/it]\n",
      "100%|██████████| 1/1 [00:01<00:00,  1.57s/it]\n",
      "  0%|          | 0/1 [00:00<?, ?it/s]"
     ]
    },
    {
     "name": "stdout",
     "output_type": "stream",
     "text": [
      "litellm.RateLimitError: BedrockException - {\"message\":\"Too many requests, please wait before trying again. You have sent too many requests.  Wait before trying again.\"} [sleep 10 seconds]\n"
     ]
    },
    {
     "name": "stderr",
     "output_type": "stream",
     "text": [
      "100%|██████████| 1/1 [00:12<00:00, 12.86s/it]\n",
      "100%|██████████| 1/1 [00:02<00:00,  2.29s/it]\n",
      "100%|██████████| 1/1 [00:01<00:00,  1.47s/it]\n",
      "  0%|          | 0/1 [00:00<?, ?it/s]"
     ]
    },
    {
     "name": "stdout",
     "output_type": "stream",
     "text": [
      "litellm.RateLimitError: BedrockException - {\"message\":\"Too many requests, please wait before trying again. You have sent too many requests.  Wait before trying again.\"} [sleep 10 seconds]\n"
     ]
    },
    {
     "name": "stderr",
     "output_type": "stream",
     "text": [
      "100%|██████████| 1/1 [00:13<00:00, 13.39s/it]\n",
      "100%|██████████| 1/1 [00:01<00:00,  1.86s/it]\n",
      "  0%|          | 0/1 [00:00<?, ?it/s]"
     ]
    },
    {
     "name": "stdout",
     "output_type": "stream",
     "text": [
      "litellm.RateLimitError: BedrockException - {\"message\":\"Too many requests, please wait before trying again. You have sent too many requests.  Wait before trying again.\"} [sleep 10 seconds]\n"
     ]
    },
    {
     "name": "stderr",
     "output_type": "stream",
     "text": [
      "100%|██████████| 1/1 [00:25<00:00, 25.44s/it]\n",
      "100%|██████████| 1/1 [00:01<00:00,  1.96s/it]\n",
      "100%|██████████| 1/1 [00:01<00:00,  1.71s/it]\n",
      "100%|██████████| 1/1 [00:31<00:00, 31.19s/it]\n",
      "100%|██████████| 1/1 [00:01<00:00,  1.64s/it]\n",
      "100%|██████████| 1/1 [00:01<00:00,  1.91s/it]\n",
      "100%|██████████| 1/1 [00:01<00:00,  1.55s/it]\n",
      "100%|██████████| 1/1 [00:28<00:00, 28.58s/it]\n",
      "100%|██████████| 1/1 [00:01<00:00,  1.81s/it]\n",
      "100%|██████████| 1/1 [00:01<00:00,  1.87s/it]\n",
      "100%|██████████| 2/2 [00:03<00:00,  1.53s/it]\n",
      "100%|██████████| 2/2 [00:04<00:00,  2.10s/it]\n",
      "100%|██████████| 1/1 [00:01<00:00,  1.73s/it]\n",
      "100%|██████████| 1/1 [00:01<00:00,  1.73s/it]\n",
      "100%|██████████| 2/2 [00:02<00:00,  1.44s/it]\n",
      "100%|██████████| 2/2 [00:02<00:00,  1.46s/it]\n",
      "100%|██████████| 2/2 [00:02<00:00,  1.11s/it]\n",
      "100%|██████████| 2/2 [00:03<00:00,  1.97s/it]\n",
      "  0%|          | 0/2 [00:00<?, ?it/s]"
     ]
    },
    {
     "name": "stdout",
     "output_type": "stream",
     "text": [
      "litellm.RateLimitError: BedrockException - {\"message\":\"Too many requests, please wait before trying again. You have sent too many requests.  Wait before trying again.\"} [sleep 10 seconds]\n"
     ]
    },
    {
     "name": "stderr",
     "output_type": "stream",
     "text": [
      "100%|██████████| 2/2 [00:14<00:00,  7.34s/it]\n",
      "100%|██████████| 1/1 [00:01<00:00,  1.74s/it]\n",
      "  0%|          | 0/1 [00:00<?, ?it/s]"
     ]
    },
    {
     "name": "stdout",
     "output_type": "stream",
     "text": [
      "litellm.RateLimitError: BedrockException - {\"message\":\"Too many requests, please wait before trying again. You have sent too many requests.  Wait before trying again.\"} [sleep 10 seconds]\n"
     ]
    },
    {
     "name": "stderr",
     "output_type": "stream",
     "text": [
      "100%|██████████| 1/1 [00:14<00:00, 14.30s/it]\n",
      "100%|██████████| 1/1 [00:01<00:00,  1.81s/it]\n",
      "  0%|          | 0/1 [00:00<?, ?it/s]"
     ]
    },
    {
     "name": "stdout",
     "output_type": "stream",
     "text": [
      "litellm.RateLimitError: BedrockException - {\"message\":\"Too many requests, please wait before trying again. You have sent too many requests.  Wait before trying again.\"} [sleep 10 seconds]\n"
     ]
    },
    {
     "name": "stderr",
     "output_type": "stream",
     "text": [
      "100%|██████████| 1/1 [00:13<00:00, 13.94s/it]\n",
      "100%|██████████| 1/1 [00:01<00:00,  1.93s/it]\n",
      "  0%|          | 0/1 [00:00<?, ?it/s]"
     ]
    },
    {
     "name": "stdout",
     "output_type": "stream",
     "text": [
      "litellm.RateLimitError: BedrockException - {\"message\":\"Too many requests, please wait before trying again. You have sent too many requests.  Wait before trying again.\"} [sleep 10 seconds]\n"
     ]
    },
    {
     "name": "stderr",
     "output_type": "stream",
     "text": [
      "100%|██████████| 1/1 [00:12<00:00, 12.97s/it]\n",
      "100%|██████████| 1/1 [00:34<00:00, 34.66s/it]\n",
      "100%|██████████| 1/1 [00:01<00:00,  1.88s/it]\n",
      "100%|██████████| 1/1 [00:01<00:00,  1.41s/it]\n",
      "100%|██████████| 1/1 [00:01<00:00,  1.44s/it]\n",
      "100%|██████████| 1/1 [00:02<00:00,  2.13s/it]\n",
      "100%|██████████| 2/2 [00:02<00:00,  1.48s/it]\n",
      "100%|██████████| 1/1 [00:01<00:00,  1.44s/it]\n",
      "100%|██████████| 1/1 [00:01<00:00,  1.90s/it]\n",
      "100%|██████████| 2/2 [00:03<00:00,  1.57s/it]\n",
      "100%|██████████| 1/1 [00:01<00:00,  1.88s/it]\n",
      "  0%|          | 0/1 [00:00<?, ?it/s]"
     ]
    },
    {
     "name": "stdout",
     "output_type": "stream",
     "text": [
      "litellm.RateLimitError: BedrockException - {\"message\":\"Too many requests, please wait before trying again. You have sent too many requests.  Wait before trying again.\"} [sleep 10 seconds]\n"
     ]
    },
    {
     "name": "stderr",
     "output_type": "stream",
     "text": [
      "100%|██████████| 1/1 [00:12<00:00, 12.71s/it]\n",
      "100%|██████████| 1/1 [00:35<00:00, 35.00s/it]\n",
      "100%|██████████| 2/2 [00:42<00:00, 21.20s/it]\n",
      "100%|██████████| 1/1 [00:18<00:00, 18.41s/it]\n",
      "100%|██████████| 1/1 [00:01<00:00,  1.65s/it]\n",
      "100%|██████████| 1/1 [00:02<00:00,  2.41s/it]\n",
      "100%|██████████| 1/1 [00:01<00:00,  1.77s/it]\n",
      "100%|██████████| 1/1 [00:01<00:00,  1.87s/it]\n",
      "100%|██████████| 1/1 [00:01<00:00,  1.34s/it]\n",
      "100%|██████████| 2/2 [00:02<00:00,  1.49s/it]\n",
      "100%|██████████| 2/2 [00:02<00:00,  1.47s/it]\n",
      "100%|██████████| 1/1 [00:01<00:00,  1.87s/it]\n",
      "100%|██████████| 1/1 [00:01<00:00,  1.94s/it]\n",
      "100%|██████████| 1/1 [00:01<00:00,  1.99s/it]\n",
      "100%|██████████| 1/1 [00:01<00:00,  1.88s/it]\n",
      "100%|██████████| 1/1 [00:01<00:00,  1.76s/it]\n",
      "100%|██████████| 1/1 [00:01<00:00,  1.74s/it]\n",
      "100%|██████████| 1/1 [00:01<00:00,  1.45s/it]\n",
      "  0%|          | 0/2 [00:00<?, ?it/s]"
     ]
    },
    {
     "name": "stdout",
     "output_type": "stream",
     "text": [
      "litellm.RateLimitError: BedrockException - {\"message\":\"Too many requests, please wait before trying again. You have sent too many requests.  Wait before trying again.\"} [sleep 10 seconds]\n"
     ]
    },
    {
     "name": "stderr",
     "output_type": "stream",
     "text": [
      "100%|██████████| 2/2 [00:14<00:00,  7.22s/it]\n",
      "100%|██████████| 1/1 [00:02<00:00,  2.79s/it]\n",
      "  0%|          | 0/1 [00:00<?, ?it/s]"
     ]
    },
    {
     "name": "stdout",
     "output_type": "stream",
     "text": [
      "litellm.RateLimitError: BedrockException - {\"message\":\"Too many requests, please wait before trying again. You have sent too many requests.  Wait before trying again.\"} [sleep 10 seconds]\n"
     ]
    },
    {
     "name": "stderr",
     "output_type": "stream",
     "text": [
      "100%|██████████| 1/1 [00:32<00:00, 32.23s/it]\n",
      "100%|██████████| 1/1 [00:01<00:00,  1.76s/it]\n",
      "100%|██████████| 1/1 [00:02<00:00,  2.58s/it]\n",
      "100%|██████████| 1/1 [00:01<00:00,  1.74s/it]\n",
      "100%|██████████| 2/2 [00:03<00:00,  1.93s/it]\n",
      "100%|██████████| 1/1 [00:01<00:00,  1.69s/it]\n",
      "100%|██████████| 1/1 [00:02<00:00,  2.10s/it]\n",
      "  0%|          | 0/1 [00:00<?, ?it/s]"
     ]
    },
    {
     "name": "stdout",
     "output_type": "stream",
     "text": [
      "litellm.RateLimitError: BedrockException - {\"message\":\"Too many requests, please wait before trying again. You have sent too many requests.  Wait before trying again.\"} [sleep 10 seconds]\n"
     ]
    },
    {
     "name": "stderr",
     "output_type": "stream",
     "text": [
      "100%|██████████| 1/1 [00:14<00:00, 14.09s/it]\n",
      "  0%|          | 0/2 [00:00<?, ?it/s]"
     ]
    },
    {
     "name": "stdout",
     "output_type": "stream",
     "text": [
      "litellm.RateLimitError: BedrockException - {\"message\":\"Too many requests, please wait before trying again. You have sent too many requests.  Wait before trying again.\"} [sleep 10 seconds]\n"
     ]
    },
    {
     "name": "stderr",
     "output_type": "stream",
     "text": [
      "100%|██████████| 2/2 [00:15<00:00,  7.64s/it]\n",
      "100%|██████████| 1/1 [00:01<00:00,  1.80s/it]\n",
      "100%|██████████| 1/1 [00:01<00:00,  1.39s/it]\n",
      "  0%|          | 0/1 [00:00<?, ?it/s]"
     ]
    },
    {
     "name": "stdout",
     "output_type": "stream",
     "text": [
      "litellm.RateLimitError: BedrockException - {\"message\":\"Too many requests, please wait before trying again. You have sent too many requests.  Wait before trying again.\"} [sleep 10 seconds]\n"
     ]
    },
    {
     "name": "stderr",
     "output_type": "stream",
     "text": [
      "100%|██████████| 1/1 [00:13<00:00, 13.81s/it]\n",
      "  0%|          | 0/2 [00:00<?, ?it/s]"
     ]
    },
    {
     "name": "stdout",
     "output_type": "stream",
     "text": [
      "litellm.RateLimitError: BedrockException - {\"message\":\"Too many requests, please wait before trying again. You have sent too many requests.  Wait before trying again.\"} [sleep 10 seconds]\n"
     ]
    },
    {
     "name": "stderr",
     "output_type": "stream",
     "text": [
      "100%|██████████| 2/2 [00:15<00:00,  7.52s/it]\n",
      "  0%|          | 0/2 [00:00<?, ?it/s]"
     ]
    },
    {
     "name": "stdout",
     "output_type": "stream",
     "text": [
      "litellm.RateLimitError: BedrockException - {\"message\":\"Too many requests, please wait before trying again. You have sent too many requests.  Wait before trying again.\"} [sleep 10 seconds]\n"
     ]
    },
    {
     "name": "stderr",
     "output_type": "stream",
     "text": [
      "100%|██████████| 2/2 [00:14<00:00,  7.49s/it]\n",
      "100%|██████████| 1/1 [00:01<00:00,  1.62s/it]\n",
      "  0%|          | 0/1 [00:00<?, ?it/s]"
     ]
    },
    {
     "name": "stdout",
     "output_type": "stream",
     "text": [
      "litellm.RateLimitError: BedrockException - {\"message\":\"Too many requests, please wait before trying again. You have sent too many requests.  Wait before trying again.\"} [sleep 10 seconds]\n"
     ]
    },
    {
     "name": "stderr",
     "output_type": "stream",
     "text": [
      "100%|██████████| 1/1 [00:13<00:00, 13.41s/it]\n",
      "100%|██████████| 1/1 [00:01<00:00,  1.73s/it]\n",
      "  0%|          | 0/1 [00:00<?, ?it/s]"
     ]
    },
    {
     "name": "stdout",
     "output_type": "stream",
     "text": [
      "litellm.RateLimitError: BedrockException - {\"message\":\"Too many requests, please wait before trying again. You have sent too many requests.  Wait before trying again.\"} [sleep 10 seconds]\n"
     ]
    },
    {
     "name": "stderr",
     "output_type": "stream",
     "text": [
      "100%|██████████| 1/1 [00:13<00:00, 13.49s/it]\n",
      "100%|██████████| 1/1 [00:01<00:00,  1.59s/it]\n",
      "  0%|          | 0/1 [00:00<?, ?it/s]"
     ]
    },
    {
     "name": "stdout",
     "output_type": "stream",
     "text": [
      "litellm.RateLimitError: BedrockException - {\"message\":\"Too many requests, please wait before trying again. You have sent too many requests.  Wait before trying again.\"} [sleep 10 seconds]\n"
     ]
    },
    {
     "name": "stderr",
     "output_type": "stream",
     "text": [
      "100%|██████████| 1/1 [00:13<00:00, 13.72s/it]\n",
      "  0%|          | 0/1 [00:00<?, ?it/s]"
     ]
    },
    {
     "name": "stdout",
     "output_type": "stream",
     "text": [
      "litellm.RateLimitError: BedrockException - {\"message\":\"Too many requests, please wait before trying again. You have sent too many requests.  Wait before trying again.\"} [sleep 10 seconds]\n"
     ]
    },
    {
     "name": "stderr",
     "output_type": "stream",
     "text": [
      "100%|██████████| 1/1 [00:14<00:00, 14.12s/it]\n",
      "100%|██████████| 1/1 [00:01<00:00,  1.45s/it]\n",
      "  0%|          | 0/1 [00:00<?, ?it/s]"
     ]
    },
    {
     "name": "stdout",
     "output_type": "stream",
     "text": [
      "litellm.RateLimitError: BedrockException - {\"message\":\"Too many requests, please wait before trying again. You have sent too many requests.  Wait before trying again.\"} [sleep 10 seconds]\n"
     ]
    },
    {
     "name": "stderr",
     "output_type": "stream",
     "text": [
      "100%|██████████| 1/1 [00:14<00:00, 14.03s/it]\n",
      "100%|██████████| 1/1 [00:01<00:00,  1.60s/it]\n",
      "100%|██████████| 1/1 [00:02<00:00,  2.01s/it]\n",
      "  0%|          | 0/1 [00:00<?, ?it/s]"
     ]
    },
    {
     "name": "stdout",
     "output_type": "stream",
     "text": [
      "litellm.RateLimitError: BedrockException - {\"message\":\"Too many requests, please wait before trying again. You have sent too many requests.  Wait before trying again.\"} [sleep 10 seconds]\n"
     ]
    },
    {
     "name": "stderr",
     "output_type": "stream",
     "text": [
      "100%|██████████| 1/1 [00:13<00:00, 13.73s/it]\n",
      "100%|██████████| 1/1 [00:01<00:00,  1.86s/it]\n",
      "  0%|          | 0/1 [00:00<?, ?it/s]"
     ]
    },
    {
     "name": "stdout",
     "output_type": "stream",
     "text": [
      "litellm.RateLimitError: BedrockException - {\"message\":\"Too many requests, please wait before trying again. You have sent too many requests.  Wait before trying again.\"} [sleep 10 seconds]\n"
     ]
    },
    {
     "name": "stderr",
     "output_type": "stream",
     "text": [
      "100%|██████████| 1/1 [00:13<00:00, 13.82s/it]\n",
      "  0%|          | 0/1 [00:00<?, ?it/s]"
     ]
    },
    {
     "name": "stdout",
     "output_type": "stream",
     "text": [
      "litellm.RateLimitError: BedrockException - {\"message\":\"Too many requests, please wait before trying again. You have sent too many requests.  Wait before trying again.\"} [sleep 10 seconds]\n"
     ]
    },
    {
     "name": "stderr",
     "output_type": "stream",
     "text": [
      "100%|██████████| 1/1 [00:13<00:00, 13.53s/it]\n",
      "100%|██████████| 1/1 [00:01<00:00,  1.89s/it]\n",
      "  0%|          | 0/1 [00:00<?, ?it/s]"
     ]
    },
    {
     "name": "stdout",
     "output_type": "stream",
     "text": [
      "litellm.RateLimitError: BedrockException - {\"message\":\"Too many requests, please wait before trying again. You have sent too many requests.  Wait before trying again.\"} [sleep 10 seconds]\n"
     ]
    },
    {
     "name": "stderr",
     "output_type": "stream",
     "text": [
      "100%|██████████| 1/1 [00:13<00:00, 13.21s/it]\n",
      "100%|██████████| 2/2 [00:03<00:00,  1.57s/it]\n",
      "  0%|          | 0/2 [00:00<?, ?it/s]"
     ]
    },
    {
     "name": "stdout",
     "output_type": "stream",
     "text": [
      "litellm.RateLimitError: BedrockException - {\"message\":\"Too many requests, please wait before trying again. You have sent too many requests.  Wait before trying again.\"} [sleep 10 seconds]\n"
     ]
    },
    {
     "name": "stderr",
     "output_type": "stream",
     "text": [
      "100%|██████████| 2/2 [00:15<00:00,  7.86s/it]\n",
      " 50%|█████     | 1/2 [00:01<00:01,  1.80s/it]"
     ]
    },
    {
     "name": "stdout",
     "output_type": "stream",
     "text": [
      "litellm.RateLimitError: BedrockException - {\"message\":\"Too many requests, please wait before trying again. You have sent too many requests.  Wait before trying again.\"} [sleep 10 seconds]\n"
     ]
    },
    {
     "name": "stderr",
     "output_type": "stream",
     "text": [
      "100%|██████████| 2/2 [00:14<00:00,  7.32s/it]\n",
      "100%|██████████| 2/2 [00:02<00:00,  1.12s/it]\n",
      "  0%|          | 0/2 [00:00<?, ?it/s]"
     ]
    },
    {
     "name": "stdout",
     "output_type": "stream",
     "text": [
      "litellm.RateLimitError: BedrockException - {\"message\":\"Too many requests, please wait before trying again. You have sent too many requests.  Wait before trying again.\"} [sleep 10 seconds]\n"
     ]
    },
    {
     "name": "stderr",
     "output_type": "stream",
     "text": [
      "100%|██████████| 2/2 [00:14<00:00,  7.45s/it]\n",
      "100%|██████████| 1/1 [00:01<00:00,  1.33s/it]\n",
      "  0%|          | 0/1 [00:00<?, ?it/s]"
     ]
    },
    {
     "name": "stdout",
     "output_type": "stream",
     "text": [
      "litellm.RateLimitError: BedrockException - {\"message\":\"Too many requests, please wait before trying again. You have sent too many requests.  Wait before trying again.\"} [sleep 10 seconds]\n"
     ]
    },
    {
     "name": "stderr",
     "output_type": "stream",
     "text": [
      "100%|██████████| 1/1 [00:13<00:00, 13.15s/it]\n",
      "100%|██████████| 1/1 [00:01<00:00,  1.42s/it]\n",
      "  0%|          | 0/1 [00:00<?, ?it/s]"
     ]
    },
    {
     "name": "stdout",
     "output_type": "stream",
     "text": [
      "litellm.RateLimitError: BedrockException - {\"message\":\"Too many requests, please wait before trying again. You have sent too many requests.  Wait before trying again.\"} [sleep 10 seconds]\n"
     ]
    },
    {
     "name": "stderr",
     "output_type": "stream",
     "text": [
      "100%|██████████| 1/1 [00:13<00:00, 13.79s/it]\n",
      "100%|██████████| 1/1 [00:01<00:00,  1.48s/it]\n",
      "  0%|          | 0/1 [00:00<?, ?it/s]"
     ]
    },
    {
     "name": "stdout",
     "output_type": "stream",
     "text": [
      "litellm.RateLimitError: BedrockException - {\"message\":\"Too many requests, please wait before trying again. You have sent too many requests.  Wait before trying again.\"} [sleep 10 seconds]\n"
     ]
    },
    {
     "name": "stderr",
     "output_type": "stream",
     "text": [
      "100%|██████████| 1/1 [00:13<00:00, 13.57s/it]\n",
      "100%|██████████| 1/1 [00:01<00:00,  1.46s/it]\n",
      "  0%|          | 0/1 [00:00<?, ?it/s]"
     ]
    },
    {
     "name": "stdout",
     "output_type": "stream",
     "text": [
      "litellm.RateLimitError: BedrockException - {\"message\":\"Too many requests, please wait before trying again. You have sent too many requests.  Wait before trying again.\"} [sleep 10 seconds]\n"
     ]
    },
    {
     "name": "stderr",
     "output_type": "stream",
     "text": [
      "100%|██████████| 1/1 [00:14<00:00, 14.51s/it]\n",
      "100%|██████████| 1/1 [00:01<00:00,  1.86s/it]\n",
      "  0%|          | 0/1 [00:00<?, ?it/s]"
     ]
    },
    {
     "name": "stdout",
     "output_type": "stream",
     "text": [
      "litellm.RateLimitError: BedrockException - {\"message\":\"Too many requests, please wait before trying again. You have sent too many requests.  Wait before trying again.\"} [sleep 10 seconds]\n"
     ]
    },
    {
     "name": "stderr",
     "output_type": "stream",
     "text": [
      "100%|██████████| 1/1 [00:13<00:00, 13.13s/it]\n",
      "100%|██████████| 1/1 [00:01<00:00,  1.87s/it]\n",
      "  0%|          | 0/2 [00:00<?, ?it/s]"
     ]
    },
    {
     "name": "stdout",
     "output_type": "stream",
     "text": [
      "litellm.RateLimitError: BedrockException - {\"message\":\"Too many requests, please wait before trying again. You have sent too many requests.  Wait before trying again.\"} [sleep 10 seconds]\n"
     ]
    },
    {
     "name": "stderr",
     "output_type": "stream",
     "text": [
      "100%|██████████| 2/2 [00:15<00:00,  7.56s/it]\n",
      "100%|██████████| 1/1 [00:01<00:00,  1.38s/it]\n",
      "  0%|          | 0/1 [00:00<?, ?it/s]"
     ]
    },
    {
     "name": "stdout",
     "output_type": "stream",
     "text": [
      "litellm.RateLimitError: BedrockException - {\"message\":\"Too many requests, please wait before trying again. You have sent too many requests.  Wait before trying again.\"} [sleep 10 seconds]\n"
     ]
    },
    {
     "name": "stderr",
     "output_type": "stream",
     "text": [
      "100%|██████████| 1/1 [00:13<00:00, 13.03s/it]\n",
      "100%|██████████| 2/2 [00:02<00:00,  1.37s/it]\n",
      "  0%|          | 0/1 [00:00<?, ?it/s]"
     ]
    },
    {
     "name": "stdout",
     "output_type": "stream",
     "text": [
      "litellm.RateLimitError: BedrockException - {\"message\":\"Too many requests, please wait before trying again. You have sent too many requests.  Wait before trying again.\"} [sleep 10 seconds]\n"
     ]
    },
    {
     "name": "stderr",
     "output_type": "stream",
     "text": [
      "100%|██████████| 1/1 [00:13<00:00, 13.37s/it]\n",
      "100%|██████████| 1/1 [00:01<00:00,  1.89s/it]\n",
      "100%|██████████| 1/1 [00:01<00:00,  1.67s/it]\n",
      "  0%|          | 0/1 [00:00<?, ?it/s]"
     ]
    },
    {
     "name": "stdout",
     "output_type": "stream",
     "text": [
      "litellm.RateLimitError: BedrockException - {\"message\":\"Too many requests, please wait before trying again. You have sent too many requests.  Wait before trying again.\"} [sleep 10 seconds]\n"
     ]
    },
    {
     "name": "stderr",
     "output_type": "stream",
     "text": [
      "100%|██████████| 1/1 [00:13<00:00, 13.22s/it]\n",
      "100%|██████████| 1/1 [00:02<00:00,  2.12s/it]\n",
      "100%|██████████| 1/1 [00:01<00:00,  1.55s/it]\n",
      "  0%|          | 0/1 [00:00<?, ?it/s]"
     ]
    },
    {
     "name": "stdout",
     "output_type": "stream",
     "text": [
      "litellm.RateLimitError: BedrockException - {\"message\":\"Too many requests, please wait before trying again. You have sent too many requests.  Wait before trying again.\"} [sleep 10 seconds]\n"
     ]
    },
    {
     "name": "stderr",
     "output_type": "stream",
     "text": [
      "100%|██████████| 1/1 [00:12<00:00, 12.60s/it]\n",
      "100%|██████████| 1/1 [00:01<00:00,  1.77s/it]\n",
      "  0%|          | 0/1 [00:00<?, ?it/s]"
     ]
    },
    {
     "name": "stdout",
     "output_type": "stream",
     "text": [
      "litellm.RateLimitError: BedrockException - {\"message\":\"Too many requests, please wait before trying again. You have sent too many requests.  Wait before trying again.\"} [sleep 10 seconds]\n"
     ]
    },
    {
     "name": "stderr",
     "output_type": "stream",
     "text": [
      "100%|██████████| 1/1 [00:13<00:00, 13.85s/it]\n",
      "100%|██████████| 1/1 [00:01<00:00,  1.98s/it]\n",
      "  0%|          | 0/1 [00:00<?, ?it/s]"
     ]
    },
    {
     "name": "stdout",
     "output_type": "stream",
     "text": [
      "litellm.RateLimitError: BedrockException - {\"message\":\"Too many requests, please wait before trying again. You have sent too many requests.  Wait before trying again.\"} [sleep 10 seconds]\n"
     ]
    },
    {
     "name": "stderr",
     "output_type": "stream",
     "text": [
      "100%|██████████| 1/1 [00:13<00:00, 13.10s/it]\n",
      "100%|██████████| 1/1 [00:01<00:00,  1.79s/it]\n",
      "  0%|          | 0/2 [00:00<?, ?it/s]"
     ]
    },
    {
     "name": "stdout",
     "output_type": "stream",
     "text": [
      "litellm.RateLimitError: BedrockException - {\"message\":\"Too many requests, please wait before trying again. You have sent too many requests.  Wait before trying again.\"} [sleep 10 seconds]\n"
     ]
    },
    {
     "name": "stderr",
     "output_type": "stream",
     "text": [
      "100%|██████████| 2/2 [00:14<00:00,  7.30s/it]\n",
      "  0%|          | 0/1 [00:00<?, ?it/s]"
     ]
    },
    {
     "name": "stdout",
     "output_type": "stream",
     "text": [
      "litellm.RateLimitError: BedrockException - {\"message\":\"Too many requests, please wait before trying again. You have sent too many requests.  Wait before trying again.\"} [sleep 10 seconds]\n"
     ]
    },
    {
     "name": "stderr",
     "output_type": "stream",
     "text": [
      "100%|██████████| 1/1 [00:13<00:00, 13.42s/it]\n",
      "100%|██████████| 1/1 [00:01<00:00,  1.44s/it]\n",
      "  0%|          | 0/1 [00:00<?, ?it/s]"
     ]
    },
    {
     "name": "stdout",
     "output_type": "stream",
     "text": [
      "litellm.RateLimitError: BedrockException - {\"message\":\"Too many requests, please wait before trying again. You have sent too many requests.  Wait before trying again.\"} [sleep 10 seconds]\n"
     ]
    },
    {
     "name": "stderr",
     "output_type": "stream",
     "text": [
      "100%|██████████| 1/1 [00:13<00:00, 13.91s/it]\n",
      "100%|██████████| 1/1 [00:01<00:00,  1.41s/it]\n",
      "  0%|          | 0/2 [00:00<?, ?it/s]"
     ]
    },
    {
     "name": "stdout",
     "output_type": "stream",
     "text": [
      "litellm.RateLimitError: BedrockException - {\"message\":\"Too many requests, please wait before trying again. You have sent too many requests.  Wait before trying again.\"} [sleep 10 seconds]\n"
     ]
    },
    {
     "name": "stderr",
     "output_type": "stream",
     "text": [
      "100%|██████████| 2/2 [00:15<00:00,  7.75s/it]\n",
      "  0%|          | 0/1 [00:00<?, ?it/s]"
     ]
    },
    {
     "name": "stdout",
     "output_type": "stream",
     "text": [
      "litellm.RateLimitError: BedrockException - {\"message\":\"Too many requests, please wait before trying again. You have sent too many requests.  Wait before trying again.\"} [sleep 10 seconds]\n"
     ]
    },
    {
     "name": "stderr",
     "output_type": "stream",
     "text": [
      "100%|██████████| 1/1 [00:13<00:00, 13.71s/it]\n",
      "  0%|          | 0/2 [00:00<?, ?it/s]"
     ]
    },
    {
     "name": "stdout",
     "output_type": "stream",
     "text": [
      "litellm.RateLimitError: BedrockException - {\"message\":\"Too many requests, please wait before trying again. You have sent too many requests.  Wait before trying again.\"} [sleep 10 seconds]\n"
     ]
    },
    {
     "name": "stderr",
     "output_type": "stream",
     "text": [
      "100%|██████████| 2/2 [00:15<00:00,  7.71s/it]\n",
      "100%|██████████| 2/2 [00:03<00:00,  1.68s/it]\n",
      "  0%|          | 0/1 [00:00<?, ?it/s]"
     ]
    },
    {
     "name": "stdout",
     "output_type": "stream",
     "text": [
      "litellm.RateLimitError: BedrockException - {\"message\":\"Too many requests, please wait before trying again. You have sent too many requests.  Wait before trying again.\"} [sleep 10 seconds]\n"
     ]
    },
    {
     "name": "stderr",
     "output_type": "stream",
     "text": [
      "100%|██████████| 1/1 [00:13<00:00, 13.10s/it]\n",
      "  0%|          | 0/2 [00:00<?, ?it/s]"
     ]
    },
    {
     "name": "stdout",
     "output_type": "stream",
     "text": [
      "litellm.RateLimitError: BedrockException - {\"message\":\"Too many requests, please wait before trying again. You have sent too many requests.  Wait before trying again.\"} [sleep 10 seconds]\n"
     ]
    },
    {
     "name": "stderr",
     "output_type": "stream",
     "text": [
      "100%|██████████| 2/2 [00:15<00:00,  7.66s/it]\n",
      "100%|██████████| 1/1 [00:02<00:00,  2.08s/it]\n",
      "  0%|          | 0/2 [00:00<?, ?it/s]"
     ]
    },
    {
     "name": "stdout",
     "output_type": "stream",
     "text": [
      "litellm.RateLimitError: BedrockException - {\"message\":\"Too many requests, please wait before trying again. You have sent too many requests.  Wait before trying again.\"} [sleep 10 seconds]\n"
     ]
    },
    {
     "name": "stderr",
     "output_type": "stream",
     "text": [
      "100%|██████████| 2/2 [00:14<00:00,  7.15s/it]\n",
      "100%|██████████| 1/1 [00:01<00:00,  1.50s/it]\n",
      "  0%|          | 0/1 [00:00<?, ?it/s]"
     ]
    },
    {
     "name": "stdout",
     "output_type": "stream",
     "text": [
      "litellm.RateLimitError: BedrockException - {\"message\":\"Too many requests, please wait before trying again. You have sent too many requests.  Wait before trying again.\"} [sleep 10 seconds]\n"
     ]
    },
    {
     "name": "stderr",
     "output_type": "stream",
     "text": [
      "100%|██████████| 1/1 [00:13<00:00, 13.85s/it]\n",
      "100%|██████████| 1/1 [00:01<00:00,  1.62s/it]\n",
      "  0%|          | 0/1 [00:00<?, ?it/s]"
     ]
    },
    {
     "name": "stdout",
     "output_type": "stream",
     "text": [
      "litellm.RateLimitError: BedrockException - {\"message\":\"Too many requests, please wait before trying again. You have sent too many requests.  Wait before trying again.\"} [sleep 10 seconds]\n"
     ]
    },
    {
     "name": "stderr",
     "output_type": "stream",
     "text": [
      "100%|██████████| 1/1 [00:13<00:00, 13.96s/it]\n",
      "100%|██████████| 1/1 [00:01<00:00,  1.71s/it]\n",
      "  0%|          | 0/2 [00:00<?, ?it/s]"
     ]
    },
    {
     "name": "stdout",
     "output_type": "stream",
     "text": [
      "litellm.RateLimitError: BedrockException - {\"message\":\"Too many requests, please wait before trying again. You have sent too many requests.  Wait before trying again.\"} [sleep 10 seconds]\n"
     ]
    },
    {
     "name": "stderr",
     "output_type": "stream",
     "text": [
      "100%|██████████| 2/2 [00:15<00:00,  7.64s/it]\n",
      "  0%|          | 0/1 [00:00<?, ?it/s]"
     ]
    },
    {
     "name": "stdout",
     "output_type": "stream",
     "text": [
      "litellm.RateLimitError: BedrockException - {\"message\":\"Too many requests, please wait before trying again. You have sent too many requests.  Wait before trying again.\"} [sleep 10 seconds]\n"
     ]
    },
    {
     "name": "stderr",
     "output_type": "stream",
     "text": [
      "100%|██████████| 1/1 [00:13<00:00, 13.92s/it]\n",
      "100%|██████████| 1/1 [00:01<00:00,  1.46s/it]\n",
      "  0%|          | 0/2 [00:00<?, ?it/s]"
     ]
    },
    {
     "name": "stdout",
     "output_type": "stream",
     "text": [
      "litellm.RateLimitError: BedrockException - {\"message\":\"Too many requests, please wait before trying again. You have sent too many requests.  Wait before trying again.\"} [sleep 10 seconds]\n"
     ]
    },
    {
     "name": "stderr",
     "output_type": "stream",
     "text": [
      "100%|██████████| 2/2 [00:15<00:00,  7.55s/it]\n",
      "100%|██████████| 1/1 [00:01<00:00,  1.55s/it]\n",
      "  0%|          | 0/2 [00:00<?, ?it/s]"
     ]
    },
    {
     "name": "stdout",
     "output_type": "stream",
     "text": [
      "litellm.RateLimitError: BedrockException - {\"message\":\"Too many requests, please wait before trying again. You have sent too many requests.  Wait before trying again.\"} [sleep 10 seconds]\n"
     ]
    },
    {
     "name": "stderr",
     "output_type": "stream",
     "text": [
      "100%|██████████| 2/2 [00:14<00:00,  7.36s/it]\n",
      "  0%|          | 0/2 [00:00<?, ?it/s]"
     ]
    },
    {
     "name": "stdout",
     "output_type": "stream",
     "text": [
      "litellm.RateLimitError: BedrockException - {\"message\":\"Too many requests, please wait before trying again. You have sent too many requests.  Wait before trying again.\"} [sleep 10 seconds]\n"
     ]
    },
    {
     "name": "stderr",
     "output_type": "stream",
     "text": [
      "100%|██████████| 2/2 [00:24<00:00, 12.04s/it]\n",
      "100%|██████████| 1/1 [00:02<00:00,  2.00s/it]\n",
      "100%|██████████| 1/1 [00:02<00:00,  2.20s/it]\n",
      "100%|██████████| 1/1 [00:01<00:00,  1.46s/it]\n",
      "  0%|          | 0/2 [00:00<?, ?it/s]"
     ]
    },
    {
     "name": "stdout",
     "output_type": "stream",
     "text": [
      "litellm.RateLimitError: BedrockException - {\"message\":\"Too many requests, please wait before trying again. You have sent too many requests.  Wait before trying again.\"} [sleep 10 seconds]\n"
     ]
    },
    {
     "name": "stderr",
     "output_type": "stream",
     "text": [
      "100%|██████████| 2/2 [00:14<00:00,  7.30s/it]\n",
      "100%|██████████| 1/1 [00:01<00:00,  1.64s/it]\n",
      "  0%|          | 0/1 [00:00<?, ?it/s]"
     ]
    },
    {
     "name": "stdout",
     "output_type": "stream",
     "text": [
      "litellm.RateLimitError: BedrockException - {\"message\":\"Too many requests, please wait before trying again. You have sent too many requests.  Wait before trying again.\"} [sleep 10 seconds]\n"
     ]
    },
    {
     "name": "stderr",
     "output_type": "stream",
     "text": [
      "100%|██████████| 1/1 [00:13<00:00, 13.49s/it]\n",
      "100%|██████████| 1/1 [00:01<00:00,  1.60s/it]\n",
      "  0%|          | 0/1 [00:00<?, ?it/s]"
     ]
    },
    {
     "name": "stdout",
     "output_type": "stream",
     "text": [
      "litellm.RateLimitError: BedrockException - {\"message\":\"Too many requests, please wait before trying again. You have sent too many requests.  Wait before trying again.\"} [sleep 10 seconds]\n"
     ]
    },
    {
     "name": "stderr",
     "output_type": "stream",
     "text": [
      "100%|██████████| 1/1 [00:13<00:00, 13.58s/it]\n",
      "100%|██████████| 1/1 [00:01<00:00,  1.80s/it]\n",
      "100%|██████████| 1/1 [00:01<00:00,  1.44s/it]\n",
      "  0%|          | 0/1 [00:00<?, ?it/s]"
     ]
    },
    {
     "name": "stdout",
     "output_type": "stream",
     "text": [
      "litellm.RateLimitError: BedrockException - {\"message\":\"Too many requests, please wait before trying again. You have sent too many requests.  Wait before trying again.\"} [sleep 10 seconds]\n"
     ]
    },
    {
     "name": "stderr",
     "output_type": "stream",
     "text": [
      "100%|██████████| 1/1 [00:12<00:00, 12.99s/it]\n",
      "100%|██████████| 1/1 [00:01<00:00,  1.36s/it]\n",
      "100%|██████████| 1/1 [00:01<00:00,  1.59s/it]\n",
      "  0%|          | 0/1 [00:00<?, ?it/s]"
     ]
    },
    {
     "name": "stdout",
     "output_type": "stream",
     "text": [
      "litellm.RateLimitError: BedrockException - {\"message\":\"Too many requests, please wait before trying again. You have sent too many requests.  Wait before trying again.\"} [sleep 10 seconds]\n"
     ]
    },
    {
     "name": "stderr",
     "output_type": "stream",
     "text": [
      "100%|██████████| 1/1 [00:13<00:00, 13.13s/it]\n",
      "100%|██████████| 2/2 [00:02<00:00,  1.34s/it]\n",
      "  0%|          | 0/1 [00:00<?, ?it/s]"
     ]
    },
    {
     "name": "stdout",
     "output_type": "stream",
     "text": [
      "litellm.RateLimitError: BedrockException - {\"message\":\"Too many requests, please wait before trying again. You have sent too many requests.  Wait before trying again.\"} [sleep 10 seconds]\n"
     ]
    },
    {
     "name": "stderr",
     "output_type": "stream",
     "text": [
      "100%|██████████| 1/1 [00:13<00:00, 13.60s/it]\n",
      "100%|██████████| 1/1 [00:01<00:00,  1.53s/it]\n",
      "  0%|          | 0/1 [00:00<?, ?it/s]"
     ]
    },
    {
     "name": "stdout",
     "output_type": "stream",
     "text": [
      "litellm.RateLimitError: BedrockException - {\"message\":\"Too many requests, please wait before trying again. You have sent too many requests.  Wait before trying again.\"} [sleep 10 seconds]\n"
     ]
    },
    {
     "name": "stderr",
     "output_type": "stream",
     "text": [
      "100%|██████████| 1/1 [00:13<00:00, 13.91s/it]\n",
      "100%|██████████| 1/1 [00:01<00:00,  1.68s/it]\n",
      "100%|██████████| 1/1 [00:01<00:00,  1.33s/it]\n",
      "  0%|          | 0/1 [00:00<?, ?it/s]"
     ]
    },
    {
     "name": "stdout",
     "output_type": "stream",
     "text": [
      "litellm.RateLimitError: BedrockException - {\"message\":\"Too many requests, please wait before trying again. You have sent too many requests.  Wait before trying again.\"} [sleep 10 seconds]\n"
     ]
    },
    {
     "name": "stderr",
     "output_type": "stream",
     "text": [
      "100%|██████████| 1/1 [00:12<00:00, 12.95s/it]\n",
      "100%|██████████| 1/1 [00:01<00:00,  1.75s/it]\n",
      "100%|██████████| 1/1 [00:01<00:00,  1.77s/it]\n",
      "  0%|          | 0/1 [00:00<?, ?it/s]"
     ]
    },
    {
     "name": "stdout",
     "output_type": "stream",
     "text": [
      "litellm.RateLimitError: BedrockException - {\"message\":\"Too many requests, please wait before trying again. You have sent too many requests.  Wait before trying again.\"} [sleep 10 seconds]\n"
     ]
    },
    {
     "name": "stderr",
     "output_type": "stream",
     "text": [
      "100%|██████████| 1/1 [00:13<00:00, 13.52s/it]\n",
      "100%|██████████| 1/1 [00:01<00:00,  1.50s/it]\n",
      "  0%|          | 0/1 [00:00<?, ?it/s]"
     ]
    },
    {
     "name": "stdout",
     "output_type": "stream",
     "text": [
      "litellm.RateLimitError: BedrockException - {\"message\":\"Too many requests, please wait before trying again. You have sent too many requests.  Wait before trying again.\"} [sleep 10 seconds]\n"
     ]
    },
    {
     "name": "stderr",
     "output_type": "stream",
     "text": [
      "100%|██████████| 1/1 [00:13<00:00, 13.25s/it]\n",
      "100%|██████████| 1/1 [00:01<00:00,  1.42s/it]\n",
      "100%|██████████| 1/1 [00:01<00:00,  1.47s/it]\n",
      "  0%|          | 0/1 [00:00<?, ?it/s]"
     ]
    },
    {
     "name": "stdout",
     "output_type": "stream",
     "text": [
      "litellm.RateLimitError: BedrockException - {\"message\":\"Too many requests, please wait before trying again. You have sent too many requests.  Wait before trying again.\"} [sleep 10 seconds]\n"
     ]
    },
    {
     "name": "stderr",
     "output_type": "stream",
     "text": [
      "100%|██████████| 1/1 [00:13<00:00, 13.30s/it]\n",
      "100%|██████████| 1/1 [00:01<00:00,  1.85s/it]\n",
      "  0%|          | 0/1 [00:00<?, ?it/s]"
     ]
    },
    {
     "name": "stdout",
     "output_type": "stream",
     "text": [
      "litellm.RateLimitError: BedrockException - {\"message\":\"Too many requests, please wait before trying again. You have sent too many requests.  Wait before trying again.\"} [sleep 10 seconds]\n"
     ]
    },
    {
     "name": "stderr",
     "output_type": "stream",
     "text": [
      "100%|██████████| 1/1 [00:55<00:00, 55.80s/it]\n",
      "100%|██████████| 1/1 [00:02<00:00,  2.01s/it]\n",
      "100%|██████████| 1/1 [00:01<00:00,  1.54s/it]\n",
      "100%|██████████| 1/1 [00:01<00:00,  1.57s/it]\n",
      "100%|██████████| 1/1 [00:01<00:00,  1.98s/it]\n",
      "100%|██████████| 1/1 [00:01<00:00,  1.74s/it]\n",
      "100%|██████████| 2/2 [00:02<00:00,  1.35s/it]\n",
      "100%|██████████| 2/2 [00:03<00:00,  1.62s/it]\n",
      "100%|██████████| 1/1 [00:01<00:00,  1.60s/it]\n",
      "100%|██████████| 1/1 [00:02<00:00,  2.06s/it]\n",
      "100%|██████████| 1/1 [00:01<00:00,  1.83s/it]\n",
      "100%|██████████| 1/1 [00:02<00:00,  2.19s/it]\n",
      "  0%|          | 0/1 [00:00<?, ?it/s]"
     ]
    },
    {
     "name": "stdout",
     "output_type": "stream",
     "text": [
      "litellm.RateLimitError: BedrockException - {\"message\":\"Too many requests, please wait before trying again. You have sent too many requests.  Wait before trying again.\"} [sleep 10 seconds]\n"
     ]
    },
    {
     "name": "stderr",
     "output_type": "stream",
     "text": [
      "100%|██████████| 1/1 [00:13<00:00, 13.67s/it]\n",
      "100%|██████████| 1/1 [00:01<00:00,  1.95s/it]\n",
      "  0%|          | 0/1 [00:00<?, ?it/s]"
     ]
    },
    {
     "name": "stdout",
     "output_type": "stream",
     "text": [
      "litellm.RateLimitError: BedrockException - {\"message\":\"Too many requests, please wait before trying again. You have sent too many requests.  Wait before trying again.\"} [sleep 10 seconds]\n"
     ]
    },
    {
     "name": "stderr",
     "output_type": "stream",
     "text": [
      "100%|██████████| 1/1 [00:13<00:00, 13.25s/it]\n",
      "100%|██████████| 1/1 [00:01<00:00,  1.69s/it]\n",
      "  0%|          | 0/1 [00:00<?, ?it/s]"
     ]
    },
    {
     "name": "stdout",
     "output_type": "stream",
     "text": [
      "litellm.RateLimitError: BedrockException - {\"message\":\"Too many requests, please wait before trying again. You have sent too many requests.  Wait before trying again.\"} [sleep 10 seconds]\n"
     ]
    },
    {
     "name": "stderr",
     "output_type": "stream",
     "text": [
      "100%|██████████| 1/1 [00:29<00:00, 29.95s/it]\n",
      "100%|██████████| 1/1 [00:01<00:00,  2.00s/it]\n",
      "100%|██████████| 1/1 [00:01<00:00,  1.73s/it]\n",
      "100%|██████████| 1/1 [00:01<00:00,  1.47s/it]\n",
      "100%|██████████| 1/1 [00:01<00:00,  1.84s/it]\n",
      "100%|██████████| 1/1 [00:01<00:00,  1.39s/it]\n",
      "  0%|          | 0/1 [00:00<?, ?it/s]"
     ]
    },
    {
     "name": "stdout",
     "output_type": "stream",
     "text": [
      "litellm.RateLimitError: BedrockException - {\"message\":\"Too many requests, please wait before trying again. You have sent too many requests.  Wait before trying again.\"} [sleep 10 seconds]\n"
     ]
    },
    {
     "name": "stderr",
     "output_type": "stream",
     "text": [
      "100%|██████████| 1/1 [00:13<00:00, 13.83s/it]\n",
      "  0%|          | 0/2 [00:00<?, ?it/s]"
     ]
    },
    {
     "name": "stdout",
     "output_type": "stream",
     "text": [
      "litellm.RateLimitError: BedrockException - {\"message\":\"Too many requests, please wait before trying again. You have sent too many requests.  Wait before trying again.\"} [sleep 10 seconds]\n"
     ]
    },
    {
     "name": "stderr",
     "output_type": "stream",
     "text": [
      "100%|██████████| 2/2 [00:15<00:00,  7.81s/it]\n",
      "100%|██████████| 1/1 [00:01<00:00,  1.78s/it]\n",
      "  0%|          | 0/1 [00:00<?, ?it/s]"
     ]
    },
    {
     "name": "stdout",
     "output_type": "stream",
     "text": [
      "litellm.RateLimitError: BedrockException - {\"message\":\"Too many requests, please wait before trying again. You have sent too many requests.  Wait before trying again.\"} [sleep 10 seconds]\n"
     ]
    },
    {
     "name": "stderr",
     "output_type": "stream",
     "text": [
      "100%|██████████| 1/1 [00:49<00:00, 49.41s/it]\n",
      "100%|██████████| 1/1 [00:01<00:00,  1.72s/it]\n",
      "100%|██████████| 2/2 [00:03<00:00,  1.63s/it]\n",
      "100%|██████████| 1/1 [00:01<00:00,  1.84s/it]\n",
      "100%|██████████| 1/1 [00:01<00:00,  1.62s/it]\n",
      "100%|██████████| 1/1 [00:01<00:00,  1.90s/it]\n",
      "100%|██████████| 1/1 [00:01<00:00,  1.52s/it]\n",
      "100%|██████████| 1/1 [00:01<00:00,  1.50s/it]\n",
      "100%|██████████| 1/1 [00:01<00:00,  1.95s/it]\n",
      "100%|██████████| 1/1 [00:01<00:00,  1.29s/it]\n",
      "100%|██████████| 1/1 [00:01<00:00,  1.23s/it]\n",
      "  0%|          | 0/2 [00:00<?, ?it/s]"
     ]
    },
    {
     "name": "stdout",
     "output_type": "stream",
     "text": [
      "litellm.RateLimitError: BedrockException - {\"message\":\"Too many requests, please wait before trying again. You have sent too many requests.  Wait before trying again.\"} [sleep 10 seconds]\n"
     ]
    },
    {
     "name": "stderr",
     "output_type": "stream",
     "text": [
      "100%|██████████| 2/2 [00:15<00:00,  7.87s/it]\n",
      "100%|██████████| 1/1 [00:01<00:00,  1.47s/it]\n",
      "  0%|          | 0/1 [00:00<?, ?it/s]"
     ]
    },
    {
     "name": "stdout",
     "output_type": "stream",
     "text": [
      "litellm.RateLimitError: BedrockException - {\"message\":\"Too many requests, please wait before trying again. You have sent too many requests.  Wait before trying again.\"} [sleep 10 seconds]\n"
     ]
    },
    {
     "name": "stderr",
     "output_type": "stream",
     "text": [
      "100%|██████████| 1/1 [00:14<00:00, 14.45s/it]\n",
      "100%|██████████| 1/1 [00:02<00:00,  2.11s/it]\n",
      "  0%|          | 0/1 [00:00<?, ?it/s]"
     ]
    },
    {
     "name": "stdout",
     "output_type": "stream",
     "text": [
      "litellm.RateLimitError: BedrockException - {\"message\":\"Too many requests, please wait before trying again. You have sent too many requests.  Wait before trying again.\"} [sleep 10 seconds]\n"
     ]
    },
    {
     "name": "stderr",
     "output_type": "stream",
     "text": [
      "100%|██████████| 1/1 [00:12<00:00, 12.82s/it]\n",
      "100%|██████████| 1/1 [00:02<00:00,  2.10s/it]\n",
      "  0%|          | 0/1 [00:00<?, ?it/s]"
     ]
    },
    {
     "name": "stdout",
     "output_type": "stream",
     "text": [
      "litellm.RateLimitError: BedrockException - {\"message\":\"Too many requests, please wait before trying again. You have sent too many requests.  Wait before trying again.\"} [sleep 10 seconds]\n"
     ]
    },
    {
     "name": "stderr",
     "output_type": "stream",
     "text": [
      "100%|██████████| 1/1 [00:12<00:00, 12.76s/it]\n",
      "100%|██████████| 1/1 [00:01<00:00,  1.49s/it]\n",
      "100%|██████████| 1/1 [00:01<00:00,  1.87s/it]\n",
      "  0%|          | 0/1 [00:00<?, ?it/s]"
     ]
    },
    {
     "name": "stdout",
     "output_type": "stream",
     "text": [
      "litellm.RateLimitError: BedrockException - {\"message\":\"Too many requests, please wait before trying again. You have sent too many requests.  Wait before trying again.\"} [sleep 10 seconds]\n"
     ]
    },
    {
     "name": "stderr",
     "output_type": "stream",
     "text": [
      "100%|██████████| 1/1 [00:13<00:00, 13.11s/it]\n",
      "100%|██████████| 1/1 [00:02<00:00,  2.03s/it]\n",
      "  0%|          | 0/2 [00:00<?, ?it/s]"
     ]
    },
    {
     "name": "stdout",
     "output_type": "stream",
     "text": [
      "litellm.RateLimitError: BedrockException - {\"message\":\"Too many requests, please wait before trying again. You have sent too many requests.  Wait before trying again.\"} [sleep 10 seconds]\n"
     ]
    },
    {
     "name": "stderr",
     "output_type": "stream",
     "text": [
      "100%|██████████| 2/2 [00:15<00:00,  7.58s/it]\n",
      "  0%|          | 0/1 [00:00<?, ?it/s]"
     ]
    },
    {
     "name": "stdout",
     "output_type": "stream",
     "text": [
      "litellm.RateLimitError: BedrockException - {\"message\":\"Too many requests, please wait before trying again. You have sent too many requests.  Wait before trying again.\"} [sleep 10 seconds]\n"
     ]
    },
    {
     "name": "stderr",
     "output_type": "stream",
     "text": [
      "100%|██████████| 1/1 [00:13<00:00, 13.51s/it]\n",
      "  0%|          | 0/1 [00:00<?, ?it/s]"
     ]
    },
    {
     "name": "stdout",
     "output_type": "stream",
     "text": [
      "litellm.RateLimitError: BedrockException - {\"message\":\"Too many requests, please wait before trying again. You have sent too many requests.  Wait before trying again.\"} [sleep 10 seconds]\n"
     ]
    },
    {
     "name": "stderr",
     "output_type": "stream",
     "text": [
      "100%|██████████| 1/1 [00:14<00:00, 14.10s/it]\n",
      "100%|██████████| 1/1 [00:01<00:00,  1.56s/it]\n",
      "  0%|          | 0/1 [00:00<?, ?it/s]"
     ]
    },
    {
     "name": "stdout",
     "output_type": "stream",
     "text": [
      "litellm.RateLimitError: BedrockException - {\"message\":\"Too many requests, please wait before trying again. You have sent too many requests.  Wait before trying again.\"} [sleep 10 seconds]\n"
     ]
    },
    {
     "name": "stderr",
     "output_type": "stream",
     "text": [
      "100%|██████████| 1/1 [00:13<00:00, 13.93s/it]\n",
      "100%|██████████| 1/1 [00:01<00:00,  1.56s/it]\n",
      "  0%|          | 0/2 [00:00<?, ?it/s]"
     ]
    },
    {
     "name": "stdout",
     "output_type": "stream",
     "text": [
      "litellm.RateLimitError: BedrockException - {\"message\":\"Too many requests, please wait before trying again. You have sent too many requests.  Wait before trying again.\"} [sleep 10 seconds]\n"
     ]
    },
    {
     "name": "stderr",
     "output_type": "stream",
     "text": [
      "100%|██████████| 2/2 [00:15<00:00,  7.58s/it]\n",
      "  0%|          | 0/1 [00:00<?, ?it/s]"
     ]
    },
    {
     "name": "stdout",
     "output_type": "stream",
     "text": [
      "litellm.RateLimitError: BedrockException - {\"message\":\"Too many requests, please wait before trying again. You have sent too many requests.  Wait before trying again.\"} [sleep 10 seconds]\n"
     ]
    },
    {
     "name": "stderr",
     "output_type": "stream",
     "text": [
      "100%|██████████| 1/1 [00:13<00:00, 13.85s/it]\n",
      "  0%|          | 0/2 [00:00<?, ?it/s]"
     ]
    },
    {
     "name": "stdout",
     "output_type": "stream",
     "text": [
      "litellm.RateLimitError: BedrockException - {\"message\":\"Too many requests, please wait before trying again. You have sent too many requests.  Wait before trying again.\"} [sleep 10 seconds]\n"
     ]
    },
    {
     "name": "stderr",
     "output_type": "stream",
     "text": [
      "100%|██████████| 2/2 [00:15<00:00,  7.55s/it]\n",
      "  0%|          | 0/1 [00:00<?, ?it/s]"
     ]
    },
    {
     "name": "stdout",
     "output_type": "stream",
     "text": [
      "litellm.RateLimitError: BedrockException - {\"message\":\"Too many requests, please wait before trying again. You have sent too many requests.  Wait before trying again.\"} [sleep 10 seconds]\n"
     ]
    },
    {
     "name": "stderr",
     "output_type": "stream",
     "text": [
      "100%|██████████| 1/1 [00:13<00:00, 13.69s/it]\n",
      "  0%|          | 0/2 [00:00<?, ?it/s]"
     ]
    },
    {
     "name": "stdout",
     "output_type": "stream",
     "text": [
      "litellm.RateLimitError: BedrockException - {\"message\":\"Too many requests, please wait before trying again. You have sent too many requests.  Wait before trying again.\"} [sleep 10 seconds]\n"
     ]
    },
    {
     "name": "stderr",
     "output_type": "stream",
     "text": [
      "100%|██████████| 2/2 [00:14<00:00,  7.44s/it]\n",
      "  0%|          | 0/1 [00:00<?, ?it/s]"
     ]
    },
    {
     "name": "stdout",
     "output_type": "stream",
     "text": [
      "litellm.RateLimitError: BedrockException - {\"message\":\"Too many requests, please wait before trying again. You have sent too many requests.  Wait before trying again.\"} [sleep 10 seconds]\n"
     ]
    },
    {
     "name": "stderr",
     "output_type": "stream",
     "text": [
      "100%|██████████| 1/1 [00:13<00:00, 13.94s/it]\n",
      "  0%|          | 0/2 [00:00<?, ?it/s]"
     ]
    },
    {
     "name": "stdout",
     "output_type": "stream",
     "text": [
      "litellm.RateLimitError: BedrockException - {\"message\":\"Too many requests, please wait before trying again. You have sent too many requests.  Wait before trying again.\"} [sleep 10 seconds]\n"
     ]
    },
    {
     "name": "stderr",
     "output_type": "stream",
     "text": [
      "100%|██████████| 2/2 [00:14<00:00,  7.43s/it]\n",
      "100%|██████████| 1/1 [00:01<00:00,  1.82s/it]\n",
      "  0%|          | 0/1 [00:00<?, ?it/s]"
     ]
    },
    {
     "name": "stdout",
     "output_type": "stream",
     "text": [
      "litellm.RateLimitError: BedrockException - {\"message\":\"Too many requests, please wait before trying again. You have sent too many requests.  Wait before trying again.\"} [sleep 10 seconds]\n"
     ]
    },
    {
     "name": "stderr",
     "output_type": "stream",
     "text": [
      "100%|██████████| 1/1 [00:13<00:00, 13.30s/it]\n",
      "100%|██████████| 1/1 [00:01<00:00,  1.72s/it]\n",
      "100%|██████████| 1/1 [00:01<00:00,  1.93s/it]\n",
      "  0%|          | 0/1 [00:00<?, ?it/s]"
     ]
    },
    {
     "name": "stdout",
     "output_type": "stream",
     "text": [
      "litellm.RateLimitError: BedrockException - {\"message\":\"Too many requests, please wait before trying again. You have sent too many requests.  Wait before trying again.\"} [sleep 10 seconds]\n"
     ]
    },
    {
     "name": "stderr",
     "output_type": "stream",
     "text": [
      "100%|██████████| 1/1 [00:12<00:00, 12.96s/it]\n",
      "100%|██████████| 1/1 [00:01<00:00,  1.87s/it]\n",
      "100%|██████████| 1/1 [00:01<00:00,  1.78s/it]\n",
      "100%|██████████| 1/1 [00:01<00:00,  1.59s/it]\n",
      "  0%|          | 0/1 [00:00<?, ?it/s]"
     ]
    },
    {
     "name": "stdout",
     "output_type": "stream",
     "text": [
      "litellm.RateLimitError: BedrockException - {\"message\":\"Too many requests, please wait before trying again. You have sent too many requests.  Wait before trying again.\"} [sleep 10 seconds]\n"
     ]
    },
    {
     "name": "stderr",
     "output_type": "stream",
     "text": [
      "100%|██████████| 1/1 [00:13<00:00, 13.15s/it]\n",
      "100%|██████████| 1/1 [00:01<00:00,  1.91s/it]\n",
      "100%|██████████| 1/1 [00:01<00:00,  1.35s/it]\n",
      "  0%|          | 0/1 [00:00<?, ?it/s]"
     ]
    },
    {
     "name": "stdout",
     "output_type": "stream",
     "text": [
      "litellm.RateLimitError: BedrockException - {\"message\":\"Too many requests, please wait before trying again. You have sent too many requests.  Wait before trying again.\"} [sleep 10 seconds]\n"
     ]
    },
    {
     "name": "stderr",
     "output_type": "stream",
     "text": [
      "100%|██████████| 1/1 [00:13<00:00, 13.88s/it]\n",
      "100%|██████████| 1/1 [00:01<00:00,  1.29s/it]\n",
      "100%|██████████| 1/1 [00:01<00:00,  1.52s/it]\n",
      "100%|██████████| 1/1 [00:01<00:00,  1.24s/it]\n",
      "  0%|          | 0/1 [00:00<?, ?it/s]"
     ]
    },
    {
     "name": "stdout",
     "output_type": "stream",
     "text": [
      "litellm.RateLimitError: BedrockException - {\"message\":\"Too many requests, please wait before trying again. You have sent too many requests.  Wait before trying again.\"} [sleep 10 seconds]\n"
     ]
    },
    {
     "name": "stderr",
     "output_type": "stream",
     "text": [
      "100%|██████████| 1/1 [00:13<00:00, 13.36s/it]\n",
      "100%|██████████| 1/1 [00:01<00:00,  1.47s/it]\n",
      "100%|██████████| 1/1 [00:01<00:00,  1.54s/it]\n",
      "100%|██████████| 1/1 [00:01<00:00,  1.22s/it]\n",
      "  0%|          | 0/1 [00:00<?, ?it/s]"
     ]
    },
    {
     "name": "stdout",
     "output_type": "stream",
     "text": [
      "litellm.RateLimitError: BedrockException - {\"message\":\"Too many requests, please wait before trying again. You have sent too many requests.  Wait before trying again.\"} [sleep 10 seconds]\n"
     ]
    },
    {
     "name": "stderr",
     "output_type": "stream",
     "text": [
      "100%|██████████| 1/1 [00:13<00:00, 13.23s/it]\n",
      "100%|██████████| 2/2 [00:02<00:00,  1.23s/it]\n",
      "  0%|          | 0/2 [00:00<?, ?it/s]"
     ]
    },
    {
     "name": "stdout",
     "output_type": "stream",
     "text": [
      "litellm.RateLimitError: BedrockException - {\"message\":\"Too many requests, please wait before trying again. You have sent too many requests.  Wait before trying again.\"} [sleep 10 seconds]\n"
     ]
    },
    {
     "name": "stderr",
     "output_type": "stream",
     "text": [
      "100%|██████████| 2/2 [00:14<00:00,  7.21s/it]\n",
      "  0%|          | 0/1 [00:00<?, ?it/s]"
     ]
    },
    {
     "name": "stdout",
     "output_type": "stream",
     "text": [
      "litellm.RateLimitError: BedrockException - {\"message\":\"Too many requests, please wait before trying again. You have sent too many requests.  Wait before trying again.\"} [sleep 10 seconds]\n"
     ]
    },
    {
     "name": "stderr",
     "output_type": "stream",
     "text": [
      "100%|██████████| 1/1 [00:13<00:00, 13.56s/it]\n",
      "  0%|          | 0/2 [00:00<?, ?it/s]"
     ]
    },
    {
     "name": "stdout",
     "output_type": "stream",
     "text": [
      "litellm.RateLimitError: BedrockException - {\"message\":\"Too many requests, please wait before trying again. You have sent too many requests.  Wait before trying again.\"} [sleep 10 seconds]\n"
     ]
    },
    {
     "name": "stderr",
     "output_type": "stream",
     "text": [
      "100%|██████████| 2/2 [00:14<00:00,  7.37s/it]\n",
      "  0%|          | 0/2 [00:00<?, ?it/s]"
     ]
    },
    {
     "name": "stdout",
     "output_type": "stream",
     "text": [
      "litellm.RateLimitError: BedrockException - {\"message\":\"Too many requests, please wait before trying again. You have sent too many requests.  Wait before trying again.\"} [sleep 10 seconds]\n"
     ]
    },
    {
     "name": "stderr",
     "output_type": "stream",
     "text": [
      "100%|██████████| 2/2 [00:14<00:00,  7.29s/it]\n",
      "  0%|          | 0/2 [00:00<?, ?it/s]"
     ]
    },
    {
     "name": "stdout",
     "output_type": "stream",
     "text": [
      "litellm.RateLimitError: BedrockException - {\"message\":\"Too many requests, please wait before trying again. You have sent too many requests.  Wait before trying again.\"} [sleep 10 seconds]\n"
     ]
    },
    {
     "name": "stderr",
     "output_type": "stream",
     "text": [
      "100%|██████████| 2/2 [00:15<00:00,  7.53s/it]\n",
      "  0%|          | 0/1 [00:00<?, ?it/s]"
     ]
    },
    {
     "name": "stdout",
     "output_type": "stream",
     "text": [
      "litellm.RateLimitError: BedrockException - {\"message\":\"Too many requests, please wait before trying again. You have sent too many requests.  Wait before trying again.\"} [sleep 10 seconds]\n"
     ]
    },
    {
     "name": "stderr",
     "output_type": "stream",
     "text": [
      "100%|██████████| 1/1 [00:28<00:00, 28.78s/it]\n",
      "100%|██████████| 1/1 [00:01<00:00,  1.87s/it]\n",
      "100%|██████████| 2/2 [00:02<00:00,  1.45s/it]\n",
      "100%|██████████| 1/1 [00:02<00:00,  2.19s/it]\n",
      "100%|██████████| 1/1 [00:01<00:00,  1.57s/it]\n",
      "  0%|          | 0/1 [00:00<?, ?it/s]"
     ]
    },
    {
     "name": "stdout",
     "output_type": "stream",
     "text": [
      "litellm.RateLimitError: BedrockException - {\"message\":\"Too many requests, please wait before trying again. You have sent too many requests.  Wait before trying again.\"} [sleep 10 seconds]\n"
     ]
    },
    {
     "name": "stderr",
     "output_type": "stream",
     "text": [
      "100%|██████████| 1/1 [00:12<00:00, 12.99s/it]\n",
      "100%|██████████| 1/1 [00:01<00:00,  1.50s/it]\n",
      "100%|██████████| 1/1 [00:01<00:00,  1.30s/it]\n",
      "  0%|          | 0/1 [00:00<?, ?it/s]"
     ]
    },
    {
     "name": "stdout",
     "output_type": "stream",
     "text": [
      "litellm.RateLimitError: BedrockException - {\"message\":\"Too many requests, please wait before trying again. You have sent too many requests.  Wait before trying again.\"} [sleep 10 seconds]\n"
     ]
    },
    {
     "name": "stderr",
     "output_type": "stream",
     "text": [
      "100%|██████████| 1/1 [00:13<00:00, 13.06s/it]\n",
      "100%|██████████| 1/1 [00:01<00:00,  1.53s/it]\n",
      "100%|██████████| 1/1 [00:01<00:00,  1.51s/it]\n",
      "100%|██████████| 1/1 [00:01<00:00,  1.55s/it]\n",
      "  0%|          | 0/1 [00:00<?, ?it/s]"
     ]
    },
    {
     "name": "stdout",
     "output_type": "stream",
     "text": [
      "litellm.RateLimitError: BedrockException - {\"message\":\"Too many requests, please wait before trying again. You have sent too many requests.  Wait before trying again.\"} [sleep 10 seconds]\n"
     ]
    },
    {
     "name": "stderr",
     "output_type": "stream",
     "text": [
      "100%|██████████| 1/1 [00:13<00:00, 13.48s/it]\n",
      "100%|██████████| 1/1 [00:01<00:00,  1.39s/it]\n",
      "100%|██████████| 1/1 [00:01<00:00,  1.51s/it]\n",
      "  0%|          | 0/1 [00:00<?, ?it/s]"
     ]
    },
    {
     "name": "stdout",
     "output_type": "stream",
     "text": [
      "litellm.RateLimitError: BedrockException - {\"message\":\"Too many requests, please wait before trying again. You have sent too many requests.  Wait before trying again.\"} [sleep 10 seconds]\n"
     ]
    },
    {
     "name": "stderr",
     "output_type": "stream",
     "text": [
      "100%|██████████| 1/1 [00:13<00:00, 13.33s/it]\n",
      "100%|██████████| 1/1 [00:01<00:00,  1.78s/it]\n",
      "  0%|          | 0/1 [00:00<?, ?it/s]"
     ]
    },
    {
     "name": "stdout",
     "output_type": "stream",
     "text": [
      "litellm.RateLimitError: BedrockException - {\"message\":\"Too many requests, please wait before trying again. You have sent too many requests.  Wait before trying again.\"} [sleep 10 seconds]\n"
     ]
    },
    {
     "name": "stderr",
     "output_type": "stream",
     "text": [
      "100%|██████████| 1/1 [00:13<00:00, 13.88s/it]\n",
      "100%|██████████| 1/1 [00:01<00:00,  1.67s/it]\n",
      "100%|██████████| 1/1 [00:01<00:00,  1.61s/it]\n",
      "  0%|          | 0/1 [00:00<?, ?it/s]"
     ]
    },
    {
     "name": "stdout",
     "output_type": "stream",
     "text": [
      "litellm.RateLimitError: BedrockException - {\"message\":\"Too many requests, please wait before trying again. You have sent too many requests.  Wait before trying again.\"} [sleep 10 seconds]\n"
     ]
    },
    {
     "name": "stderr",
     "output_type": "stream",
     "text": [
      "100%|██████████| 1/1 [00:12<00:00, 12.73s/it]\n",
      "100%|██████████| 1/1 [00:01<00:00,  1.50s/it]\n",
      "100%|██████████| 1/1 [00:01<00:00,  1.79s/it]\n",
      "100%|██████████| 1/1 [00:01<00:00,  1.59s/it]\n",
      "  0%|          | 0/1 [00:00<?, ?it/s]"
     ]
    },
    {
     "name": "stdout",
     "output_type": "stream",
     "text": [
      "litellm.RateLimitError: BedrockException - {\"message\":\"Too many requests, please wait before trying again. You have sent too many requests.  Wait before trying again.\"} [sleep 10 seconds]\n"
     ]
    },
    {
     "name": "stderr",
     "output_type": "stream",
     "text": [
      "100%|██████████| 1/1 [00:12<00:00, 12.92s/it]\n",
      "100%|██████████| 1/1 [00:01<00:00,  1.21s/it]\n",
      "100%|██████████| 1/1 [00:01<00:00,  1.85s/it]\n",
      "100%|██████████| 1/1 [00:01<00:00,  1.55s/it]\n",
      "100%|██████████| 1/1 [00:01<00:00,  1.25s/it]\n",
      "  0%|          | 0/1 [00:00<?, ?it/s]"
     ]
    },
    {
     "name": "stdout",
     "output_type": "stream",
     "text": [
      "litellm.RateLimitError: BedrockException - {\"message\":\"Too many requests, please wait before trying again. You have sent too many requests.  Wait before trying again.\"} [sleep 10 seconds]\n"
     ]
    },
    {
     "name": "stderr",
     "output_type": "stream",
     "text": [
      "100%|██████████| 1/1 [00:13<00:00, 13.28s/it]\n",
      "100%|██████████| 1/1 [00:01<00:00,  1.38s/it]\n",
      "100%|██████████| 1/1 [00:01<00:00,  1.88s/it]\n",
      "  0%|          | 0/1 [00:00<?, ?it/s]"
     ]
    },
    {
     "name": "stdout",
     "output_type": "stream",
     "text": [
      "litellm.RateLimitError: BedrockException - {\"message\":\"Too many requests, please wait before trying again. You have sent too many requests.  Wait before trying again.\"} [sleep 10 seconds]\n"
     ]
    },
    {
     "name": "stderr",
     "output_type": "stream",
     "text": [
      "100%|██████████| 1/1 [00:12<00:00, 12.71s/it]\n",
      "100%|██████████| 2/2 [00:02<00:00,  1.33s/it]\n",
      "  0%|          | 0/2 [00:00<?, ?it/s]"
     ]
    },
    {
     "name": "stdout",
     "output_type": "stream",
     "text": [
      "litellm.RateLimitError: BedrockException - {\"message\":\"Too many requests, please wait before trying again. You have sent too many requests.  Wait before trying again.\"} [sleep 10 seconds]\n"
     ]
    },
    {
     "name": "stderr",
     "output_type": "stream",
     "text": [
      "100%|██████████| 2/2 [00:14<00:00,  7.49s/it]\n",
      "100%|██████████| 1/1 [00:01<00:00,  1.90s/it]\n",
      "  0%|          | 0/2 [00:00<?, ?it/s]"
     ]
    },
    {
     "name": "stdout",
     "output_type": "stream",
     "text": [
      "litellm.RateLimitError: BedrockException - {\"message\":\"Too many requests, please wait before trying again. You have sent too many requests.  Wait before trying again.\"} [sleep 10 seconds]\n"
     ]
    },
    {
     "name": "stderr",
     "output_type": "stream",
     "text": [
      "100%|██████████| 2/2 [00:14<00:00,  7.29s/it]\n",
      "  0%|          | 0/1 [00:00<?, ?it/s]"
     ]
    },
    {
     "name": "stdout",
     "output_type": "stream",
     "text": [
      "litellm.RateLimitError: BedrockException - {\"message\":\"Too many requests, please wait before trying again. You have sent too many requests.  Wait before trying again.\"} [sleep 10 seconds]\n"
     ]
    },
    {
     "name": "stderr",
     "output_type": "stream",
     "text": [
      "100%|██████████| 1/1 [00:13<00:00, 13.88s/it]\n",
      "  0%|          | 0/2 [00:00<?, ?it/s]"
     ]
    },
    {
     "name": "stdout",
     "output_type": "stream",
     "text": [
      "litellm.RateLimitError: BedrockException - {\"message\":\"Too many requests, please wait before trying again. You have sent too many requests.  Wait before trying again.\"} [sleep 10 seconds]\n"
     ]
    },
    {
     "name": "stderr",
     "output_type": "stream",
     "text": [
      "100%|██████████| 2/2 [00:14<00:00,  7.42s/it]\n",
      "  0%|          | 0/2 [00:00<?, ?it/s]"
     ]
    },
    {
     "name": "stdout",
     "output_type": "stream",
     "text": [
      "litellm.RateLimitError: BedrockException - {\"message\":\"Too many requests, please wait before trying again. You have sent too many requests.  Wait before trying again.\"} [sleep 10 seconds]\n"
     ]
    },
    {
     "name": "stderr",
     "output_type": "stream",
     "text": [
      "100%|██████████| 2/2 [00:41<00:00, 20.63s/it]\n",
      "100%|██████████| 2/2 [00:02<00:00,  1.44s/it]\n",
      "100%|██████████| 2/2 [00:03<00:00,  1.66s/it]\n",
      "100%|██████████| 2/2 [00:30<00:00, 15.42s/it]\n",
      "100%|██████████| 1/1 [00:02<00:00,  2.23s/it]\n",
      "100%|██████████| 1/1 [00:33<00:00, 33.64s/it]\n",
      "100%|██████████| 1/1 [00:02<00:00,  2.20s/it]\n",
      "100%|██████████| 1/1 [00:02<00:00,  2.13s/it]\n",
      "100%|██████████| 1/1 [00:01<00:00,  1.73s/it]\n",
      "100%|██████████| 1/1 [00:02<00:00,  2.41s/it]\n",
      "100%|██████████| 1/1 [00:01<00:00,  1.86s/it]\n"
     ]
    }
   ],
   "source": [
    "from refchecker import LLMChecker\n",
    "import json\n",
    "d1 = 'data/claims.json'\n",
    "d2 = 'data/checked.json'\n",
    "\n",
    "def check(data_path1, data_path3):\n",
    "    checker = LLMChecker(\n",
    "        model = 'bedrock/meta.llama3-1-70b-instruct-v1:0', \n",
    "        batch_size=50,\n",
    "    )\n",
    "    \n",
    "    data = json.load(open(data_path1))\n",
    "\n",
    "    for d in data:\n",
    "        question = replace_name(d[\"question\"])\n",
    "        ref = d[\"reference\"]\n",
    "        text1 = d[\"text1\"]\n",
    "        text2 = d[\"text2\"]\n",
    "        claims_ref = d[\"claims_ref\"]\n",
    "        claims_t1 = d[\"claims_t1\"]\n",
    "        claims_t2 = d[\"claims_t2\"]\n",
    "\n",
    "        \n",
    "        batch_claims = [claims_ref, claims_t1, claims_t2]\n",
    "        references = [replace_name(ref), replace_name(text1), replace_name(text2)]\n",
    "\n",
    "        batch_labels = checker.check(\n",
    "            batch_claims=batch_claims,\n",
    "            batch_questions=[question]*len(batch_claims),\n",
    "            batch_references=[references] * len(batch_claims),\n",
    "            is_joint=True,\n",
    "            joint_check_num=5\n",
    "        )\n",
    "        d['labels'] = batch_labels\n",
    "\n",
    "    with open(data_path3, 'w') as file:\n",
    "        json.dump(data, file, indent=4)\n",
    "        \n",
    "check(d1,d2)\n"
   ]
  },
  {
   "cell_type": "code",
   "execution_count": 1,
   "metadata": {},
   "outputs": [],
   "source": [
    "import json\n",
    "\n",
    "data_path1 = 'data/checked.json'\n",
    "data_path2 = 'data/score.json'\n",
    "\n",
    "score_map = {\n",
    "    'Entailment': 1,\n",
    "    'Neutral': 0,\n",
    "    'Contradiction': 0\n",
    "}\n",
    "\n",
    "with open(data_path1) as f:\n",
    "    data = json.load(f)\n",
    "\n",
    "for d in data:\n",
    "    labels = d['labels']\n",
    "    ref_label = labels[0]\n",
    "    t1_label = labels[1]\n",
    "    t2_label = labels[2]\n",
    "\n",
    "    sum1 = 0\n",
    "    sum2 = 0\n",
    "    ref_to_t1 = 0\n",
    "    ref_to_t2 = 0\n",
    "    t1_to_ref = 0\n",
    "    t2_to_ref = 0   \n",
    "\n",
    "    for label in ref_label:\n",
    "        sum1 += 1\n",
    "        sum2 += 1\n",
    "        ref_to_t1 += score_map[label[1]]\n",
    "        ref_to_t2 += score_map[label[2]]\n",
    "    for label in t1_label:\n",
    "        sum1 += 1\n",
    "        t1_to_ref += score_map[label[0]]\n",
    "    for label in t2_label:\n",
    "        sum2 += 1\n",
    "        t2_to_ref += score_map[label[0]]\n",
    "\n",
    "    d['ref_t1_score'] = (ref_to_t1 + t1_to_ref) / sum1  \n",
    "    d['ref_t2_score'] = (ref_to_t2 + t2_to_ref) / sum2\n",
    "\n",
    "with open(data_path2, 'w') as f:\n",
    "    json.dump(data, f, indent=4)\n"
   ]
  }
 ],
 "metadata": {
  "kernelspec": {
   "display_name": "refchecker",
   "language": "python",
   "name": "python3"
  },
  "language_info": {
   "codemirror_mode": {
    "name": "ipython",
    "version": 3
   },
   "file_extension": ".py",
   "mimetype": "text/x-python",
   "name": "python",
   "nbconvert_exporter": "python",
   "pygments_lexer": "ipython3",
   "version": "3.10.14"
  }
 },
 "nbformat": 4,
 "nbformat_minor": 2
}
