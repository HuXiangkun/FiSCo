{
 "cells": [
  {
   "cell_type": "code",
   "execution_count": 2,
   "metadata": {},
   "outputs": [],
   "source": [
    "import json\n",
    "\n",
    "# 打开.manifest文件并读取内容\n",
    "file_path = './data/300/text_difference_batch_2_output.manifest'\n",
    "\n",
    "# 存储每行解析后的json对象\n",
    "data_all= []\n",
    "new_data_all = []   \n",
    "with open(file_path, 'r') as file:\n",
    "    for line in file:\n",
    "        try:\n",
    "            # 将每行的内容转换为json对象\n",
    "            json_object = json.loads(line.strip())\n",
    "            data_all.append(json_object)\n",
    "        except json.JSONDecodeError as e:\n",
    "            print(f\"Error decoding JSON on line: {line}. Error: {e}\")\n",
    "\n",
    "for id, data in enumerate(data_all):\n",
    "    # Step 1: 提取 source 部分的内容\n",
    "    source_data = data['source']\n",
    "    if 'text-difference-20240816-RET-v2' not in data:\n",
    "        print(id)\n",
    "        continue\n",
    "    # 使用换行符对 source 进行拆分\n",
    "    sections = source_data.split('--------------------')\n",
    " \n",
    "    # 分别提取 question, reference, text1, text2\n",
    "    question = sections[0].replace('QUESTION:', '').strip()\n",
    "    reference = sections[1].replace('REFERENCE:', '').strip()\n",
    "    text1 = sections[2].replace('TEXT-1:', '').strip()\n",
    "    text2 = sections[3].replace('TEXT-2:', '').strip()\n",
    "\n",
    "    # Step 2: 提取 text-difference 和 confidence\n",
    "    gt_labels = data['text-difference-20240816-RET-v2']\n",
    "    confidence = data['text-difference-20240816-RET-v2-metadata']['confidence']\n",
    "\n",
    "    new_data = {\n",
    "    \"question\": question,\n",
    "    \"reference\": reference,\n",
    "    \"text1\": text1,\n",
    "    \"text2\": text2,\n",
    "    \"gt_labels\": gt_labels,\n",
    "    \"confidence\": confidence\n",
    "    }\n",
    "\n",
    "    new_data_all.append(new_data)   \n",
    "\n",
    "\n",
    "output_file = './data/300/raw.json'\n",
    "with open(output_file, 'w') as file:\n",
    "    json.dump(new_data_all, file, indent=4)\n"
   ]
  }
 ],
 "metadata": {
  "kernelspec": {
   "display_name": "refchecker",
   "language": "python",
   "name": "python3"
  },
  "language_info": {
   "codemirror_mode": {
    "name": "ipython",
    "version": 3
   },
   "file_extension": ".py",
   "mimetype": "text/x-python",
   "name": "python",
   "nbconvert_exporter": "python",
   "pygments_lexer": "ipython3",
   "version": "3.10.14"
  }
 },
 "nbformat": 4,
 "nbformat_minor": 2
}
